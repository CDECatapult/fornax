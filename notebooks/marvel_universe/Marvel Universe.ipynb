{
 "cells": [
  {
   "cell_type": "code",
   "execution_count": 1,
   "metadata": {},
   "outputs": [],
   "source": [
    "import hashlib as hashlib\n",
    "import pandas as pd\n",
    "import numpy as np\n",
    "import urllib.request as request\n",
    "from SPARQLWrapper import SPARQLWrapper, JSON"
   ]
  },
  {
   "cell_type": "markdown",
   "metadata": {},
   "source": [
    "## Creating the Hero - Comic Target Graph\n",
    "\n",
    "The hero-comic book dataset on github contains the name of each Marvel hero, the comics that they have appeared in and the birth name of the hero (if available).\n",
    "\n",
    "Let's download the dataset and inspect it. \n",
    "The hero column can contain two values seperated by a slash so we'll split these out into seperate columns."
   ]
  },
  {
   "cell_type": "code",
   "execution_count": 2,
   "metadata": {},
   "outputs": [],
   "source": [
    "def get_id(url):\n",
    "    \"\"\" A function to map a string onto 32-bit integers using the sha256 hash\"\"\"\n",
    "    if isinstance(url, float):\n",
    "        return 0\n",
    "    else:\n",
    "        return int(hashlib.sha256(url.encode('utf-8')).hexdigest(), 16) % 2147483647       "
   ]
  },
  {
   "cell_type": "code",
   "execution_count": 3,
   "metadata": {},
   "outputs": [
    {
     "data": {
      "text/html": [
       "<div>\n",
       "<style scoped>\n",
       "    .dataframe tbody tr th:only-of-type {\n",
       "        vertical-align: middle;\n",
       "    }\n",
       "\n",
       "    .dataframe tbody tr th {\n",
       "        vertical-align: top;\n",
       "    }\n",
       "\n",
       "    .dataframe thead th {\n",
       "        text-align: right;\n",
       "    }\n",
       "</style>\n",
       "<table border=\"1\" class=\"dataframe\">\n",
       "  <thead>\n",
       "    <tr style=\"text-align: right;\">\n",
       "      <th></th>\n",
       "      <th>hero</th>\n",
       "      <th>comic</th>\n",
       "      <th>hero_id</th>\n",
       "      <th>name</th>\n",
       "      <th>name_id</th>\n",
       "      <th>comic_id</th>\n",
       "    </tr>\n",
       "  </thead>\n",
       "  <tbody>\n",
       "    <tr>\n",
       "      <th>0</th>\n",
       "      <td>FROST, CARMILLA</td>\n",
       "      <td>AA2 35</td>\n",
       "      <td>969696980</td>\n",
       "      <td>NaN</td>\n",
       "      <td>0</td>\n",
       "      <td>628084091</td>\n",
       "    </tr>\n",
       "    <tr>\n",
       "      <th>1</th>\n",
       "      <td>KILLRAVEN</td>\n",
       "      <td>AA2 35</td>\n",
       "      <td>1741993361</td>\n",
       "      <td>JONATHAN R</td>\n",
       "      <td>1486076256</td>\n",
       "      <td>628084091</td>\n",
       "    </tr>\n",
       "    <tr>\n",
       "      <th>2</th>\n",
       "      <td>M'SHULLA</td>\n",
       "      <td>AA2 35</td>\n",
       "      <td>744944046</td>\n",
       "      <td>NaN</td>\n",
       "      <td>0</td>\n",
       "      <td>628084091</td>\n",
       "    </tr>\n",
       "    <tr>\n",
       "      <th>3</th>\n",
       "      <td>24-HOUR MAN</td>\n",
       "      <td>AA2 35</td>\n",
       "      <td>720931845</td>\n",
       "      <td>EMMANUEL</td>\n",
       "      <td>1706319682</td>\n",
       "      <td>628084091</td>\n",
       "    </tr>\n",
       "    <tr>\n",
       "      <th>4</th>\n",
       "      <td>OLD SKULL</td>\n",
       "      <td>AA2 35</td>\n",
       "      <td>1079341516</td>\n",
       "      <td>NaN</td>\n",
       "      <td>0</td>\n",
       "      <td>628084091</td>\n",
       "    </tr>\n",
       "  </tbody>\n",
       "</table>\n",
       "</div>"
      ],
      "text/plain": [
       "              hero   comic     hero_id        name     name_id   comic_id\n",
       "0  FROST, CARMILLA  AA2 35   969696980         NaN           0  628084091\n",
       "1        KILLRAVEN  AA2 35  1741993361  JONATHAN R  1486076256  628084091\n",
       "2         M'SHULLA  AA2 35   744944046         NaN           0  628084091\n",
       "3      24-HOUR MAN  AA2 35   720931845    EMMANUEL  1706319682  628084091\n",
       "4        OLD SKULL  AA2 35  1079341516         NaN           0  628084091"
      ]
     },
     "execution_count": 3,
     "metadata": {},
     "output_type": "execute_result"
    }
   ],
   "source": [
    "fp = request.urlopen('http://syntagmatic.github.io/exposedata/marvel/data/source.csv')\n",
    "hero_comic_name_df = pd.read_csv(fp, names=['hero', 'comic'])\n",
    "hero_comic_name_df['hero_id'] = list(map(get_id, hero_comic_name_df['hero'].str.upper()))\n",
    "hero_comic_name_df['hero'] = hero_comic_name_df.hero.str.split('|').str.get(0).str.strip()\n",
    "hero_comic_name_df['name'] = hero_comic_name_df.hero.str.split('/').str.get(1).str.strip()\n",
    "hero_comic_name_df['hero'] = hero_comic_name_df.hero.str.split('/').str.get(0).str.strip()\n",
    "hero_comic_name_df['name_id'] = list(map(get_id, hero_comic_name_df['name'].str.lower()))\n",
    "hero_comic_name_df['comic_id'] = list(map(get_id, hero_comic_name_df['comic'].str.lower()))\n",
    "hero_comic_name_df.head()"
   ]
  },
  {
   "cell_type": "markdown",
   "metadata": {},
   "source": [
    "Really the dataset ought to be represented by two tables. \n",
    "One representing heros and their names.\n",
    "The other representing heros and the comics they have featured in.\n",
    "Let's do that to remove duplicates and NaN entries."
   ]
  },
  {
   "cell_type": "code",
   "execution_count": 4,
   "metadata": {},
   "outputs": [
    {
     "data": {
      "text/html": [
       "<div>\n",
       "<style scoped>\n",
       "    .dataframe tbody tr th:only-of-type {\n",
       "        vertical-align: middle;\n",
       "    }\n",
       "\n",
       "    .dataframe tbody tr th {\n",
       "        vertical-align: top;\n",
       "    }\n",
       "\n",
       "    .dataframe thead th {\n",
       "        text-align: right;\n",
       "    }\n",
       "</style>\n",
       "<table border=\"1\" class=\"dataframe\">\n",
       "  <thead>\n",
       "    <tr style=\"text-align: right;\">\n",
       "      <th></th>\n",
       "      <th>hero_id</th>\n",
       "      <th>name_id</th>\n",
       "      <th>hero</th>\n",
       "      <th>name</th>\n",
       "    </tr>\n",
       "  </thead>\n",
       "  <tbody>\n",
       "    <tr>\n",
       "      <th>1</th>\n",
       "      <td>1741993361</td>\n",
       "      <td>1486076256</td>\n",
       "      <td>KILLRAVEN</td>\n",
       "      <td>JONATHAN R</td>\n",
       "    </tr>\n",
       "    <tr>\n",
       "      <th>3</th>\n",
       "      <td>720931845</td>\n",
       "      <td>1706319682</td>\n",
       "      <td>24-HOUR MAN</td>\n",
       "      <td>EMMANUEL</td>\n",
       "    </tr>\n",
       "    <tr>\n",
       "      <th>6</th>\n",
       "      <td>1806107169</td>\n",
       "      <td>1698511431</td>\n",
       "      <td>3-D MAN</td>\n",
       "      <td>CHARLES CHAN</td>\n",
       "    </tr>\n",
       "    <tr>\n",
       "      <th>10</th>\n",
       "      <td>364459470</td>\n",
       "      <td>1251665496</td>\n",
       "      <td>MARVEL BOY III</td>\n",
       "      <td>ROBER</td>\n",
       "    </tr>\n",
       "    <tr>\n",
       "      <th>18</th>\n",
       "      <td>1021432420</td>\n",
       "      <td>1295194454</td>\n",
       "      <td>WASP</td>\n",
       "      <td>JANET VAN DYNE</td>\n",
       "    </tr>\n",
       "  </tbody>\n",
       "</table>\n",
       "</div>"
      ],
      "text/plain": [
       "       hero_id     name_id            hero            name\n",
       "1   1741993361  1486076256       KILLRAVEN      JONATHAN R\n",
       "3    720931845  1706319682     24-HOUR MAN        EMMANUEL\n",
       "6   1806107169  1698511431         3-D MAN    CHARLES CHAN\n",
       "10   364459470  1251665496  MARVEL BOY III           ROBER\n",
       "18  1021432420  1295194454            WASP  JANET VAN DYNE"
      ]
     },
     "execution_count": 4,
     "metadata": {},
     "output_type": "execute_result"
    }
   ],
   "source": [
    "hero_name_df = hero_comic_name_df[['hero_id', 'name_id', 'hero', 'name']].drop_duplicates()\n",
    "hero_name_df['name'].replace('', np.nan, inplace=True)\n",
    "hero_name_df = hero_name_df[hero_name_df['name'].notnull()]\n",
    "hero_name_df.head()"
   ]
  },
  {
   "cell_type": "code",
   "execution_count": 5,
   "metadata": {},
   "outputs": [
    {
     "data": {
      "text/html": [
       "<div>\n",
       "<style scoped>\n",
       "    .dataframe tbody tr th:only-of-type {\n",
       "        vertical-align: middle;\n",
       "    }\n",
       "\n",
       "    .dataframe tbody tr th {\n",
       "        vertical-align: top;\n",
       "    }\n",
       "\n",
       "    .dataframe thead th {\n",
       "        text-align: right;\n",
       "    }\n",
       "</style>\n",
       "<table border=\"1\" class=\"dataframe\">\n",
       "  <thead>\n",
       "    <tr style=\"text-align: right;\">\n",
       "      <th></th>\n",
       "      <th>hero_id</th>\n",
       "      <th>comic_id</th>\n",
       "      <th>hero</th>\n",
       "      <th>comic</th>\n",
       "    </tr>\n",
       "  </thead>\n",
       "  <tbody>\n",
       "    <tr>\n",
       "      <th>0</th>\n",
       "      <td>969696980</td>\n",
       "      <td>628084091</td>\n",
       "      <td>FROST, CARMILLA</td>\n",
       "      <td>AA2 35</td>\n",
       "    </tr>\n",
       "    <tr>\n",
       "      <th>1</th>\n",
       "      <td>1741993361</td>\n",
       "      <td>628084091</td>\n",
       "      <td>KILLRAVEN</td>\n",
       "      <td>AA2 35</td>\n",
       "    </tr>\n",
       "    <tr>\n",
       "      <th>2</th>\n",
       "      <td>744944046</td>\n",
       "      <td>628084091</td>\n",
       "      <td>M'SHULLA</td>\n",
       "      <td>AA2 35</td>\n",
       "    </tr>\n",
       "    <tr>\n",
       "      <th>3</th>\n",
       "      <td>720931845</td>\n",
       "      <td>628084091</td>\n",
       "      <td>24-HOUR MAN</td>\n",
       "      <td>AA2 35</td>\n",
       "    </tr>\n",
       "    <tr>\n",
       "      <th>4</th>\n",
       "      <td>1079341516</td>\n",
       "      <td>628084091</td>\n",
       "      <td>OLD SKULL</td>\n",
       "      <td>AA2 35</td>\n",
       "    </tr>\n",
       "  </tbody>\n",
       "</table>\n",
       "</div>"
      ],
      "text/plain": [
       "      hero_id   comic_id             hero   comic\n",
       "0   969696980  628084091  FROST, CARMILLA  AA2 35\n",
       "1  1741993361  628084091        KILLRAVEN  AA2 35\n",
       "2   744944046  628084091         M'SHULLA  AA2 35\n",
       "3   720931845  628084091      24-HOUR MAN  AA2 35\n",
       "4  1079341516  628084091        OLD SKULL  AA2 35"
      ]
     },
     "execution_count": 5,
     "metadata": {},
     "output_type": "execute_result"
    }
   ],
   "source": [
    "hero_comic_df = hero_comic_name_df[['hero_id', 'comic_id', 'hero', 'comic']].drop_duplicates()\n",
    "hero_comic_df.head()"
   ]
  },
  {
   "cell_type": "markdown",
   "metadata": {},
   "source": [
    "Finally we could like to represent heros, names and comics with unique 32 bit integer identifiers rather than strings.\n",
    "We'll do this using the function `get_id` that maps the python hash funtion onto the range of 32-bit ints.\n",
    "This allows us to make one table of nodes and one table of edges which is a more ideomatic representation of a graph."
   ]
  },
  {
   "cell_type": "code",
   "execution_count": 6,
   "metadata": {},
   "outputs": [],
   "source": [
    "heros = hero_comic_df[['hero_id', 'hero']].drop_duplicates()\n",
    "comic = hero_comic_df[['comic_id', 'comic']].drop_duplicates()\n",
    "names = hero_name_df[['name_id', 'name']].drop_duplicates()\n",
    "\n",
    "nodes = pd.concat(\n",
    "    [\n",
    "        pd.DataFrame({\n",
    "            'id': heros['hero_id'],\n",
    "            'label': heros['hero'],\n",
    "            'type': 0\n",
    "        }),\n",
    "        pd.DataFrame({\n",
    "            'id': comic['comic_id'],\n",
    "            'label': comic['comic'],\n",
    "            'type': 1\n",
    "        }),\n",
    "        pd.DataFrame({\n",
    "            'id': names['name_id'],\n",
    "            'label': names['name'],\n",
    "            'type': 2\n",
    "        }),  \n",
    "    ]\n",
    ")"
   ]
  },
  {
   "cell_type": "code",
   "execution_count": 7,
   "metadata": {},
   "outputs": [],
   "source": [
    "edges = pd.concat(\n",
    "    [\n",
    "        pd.DataFrame({\n",
    "            'start': hero_comic_df['hero_id'],\n",
    "            'end': hero_comic_df['comic_id'],\n",
    "        }),\n",
    "        pd.DataFrame({\n",
    "            'start': hero_name_df['hero_id'],\n",
    "            'end': hero_name_df['name_id'],\n",
    "        }),\n",
    "        pd.DataFrame({\n",
    "            'end': hero_comic_df['hero_id'],\n",
    "            'start': hero_comic_df['comic_id'],\n",
    "        }),\n",
    "        pd.DataFrame({\n",
    "            'end': hero_name_df['hero_id'],\n",
    "            'start': hero_name_df['name_id'],\n",
    "        }),\n",
    "    ],\n",
    "    sort=False\n",
    ")"
   ]
  },
  {
   "cell_type": "code",
   "execution_count": 8,
   "metadata": {},
   "outputs": [
    {
     "data": {
      "text/plain": [
       "(20444, 195396)"
      ]
     },
     "execution_count": 8,
     "metadata": {},
     "output_type": "execute_result"
    }
   ],
   "source": [
    "len(nodes), len(edges)"
   ]
  },
  {
   "cell_type": "code",
   "execution_count": 9,
   "metadata": {},
   "outputs": [
    {
     "data": {
      "text/html": [
       "<div>\n",
       "<style scoped>\n",
       "    .dataframe tbody tr th:only-of-type {\n",
       "        vertical-align: middle;\n",
       "    }\n",
       "\n",
       "    .dataframe tbody tr th {\n",
       "        vertical-align: top;\n",
       "    }\n",
       "\n",
       "    .dataframe thead th {\n",
       "        text-align: right;\n",
       "    }\n",
       "</style>\n",
       "<table border=\"1\" class=\"dataframe\">\n",
       "  <thead>\n",
       "    <tr style=\"text-align: right;\">\n",
       "      <th></th>\n",
       "      <th>id</th>\n",
       "      <th>label</th>\n",
       "      <th>type</th>\n",
       "    </tr>\n",
       "  </thead>\n",
       "  <tbody>\n",
       "    <tr>\n",
       "      <th>0</th>\n",
       "      <td>969696980</td>\n",
       "      <td>FROST, CARMILLA</td>\n",
       "      <td>0</td>\n",
       "    </tr>\n",
       "    <tr>\n",
       "      <th>1</th>\n",
       "      <td>1741993361</td>\n",
       "      <td>KILLRAVEN</td>\n",
       "      <td>0</td>\n",
       "    </tr>\n",
       "    <tr>\n",
       "      <th>2</th>\n",
       "      <td>744944046</td>\n",
       "      <td>M'SHULLA</td>\n",
       "      <td>0</td>\n",
       "    </tr>\n",
       "    <tr>\n",
       "      <th>3</th>\n",
       "      <td>720931845</td>\n",
       "      <td>24-HOUR MAN</td>\n",
       "      <td>0</td>\n",
       "    </tr>\n",
       "    <tr>\n",
       "      <th>4</th>\n",
       "      <td>1079341516</td>\n",
       "      <td>OLD SKULL</td>\n",
       "      <td>0</td>\n",
       "    </tr>\n",
       "  </tbody>\n",
       "</table>\n",
       "</div>"
      ],
      "text/plain": [
       "           id            label  type\n",
       "0   969696980  FROST, CARMILLA     0\n",
       "1  1741993361        KILLRAVEN     0\n",
       "2   744944046         M'SHULLA     0\n",
       "3   720931845      24-HOUR MAN     0\n",
       "4  1079341516        OLD SKULL     0"
      ]
     },
     "execution_count": 9,
     "metadata": {},
     "output_type": "execute_result"
    }
   ],
   "source": [
    "nodes.head()"
   ]
  },
  {
   "cell_type": "code",
   "execution_count": 10,
   "metadata": {},
   "outputs": [
    {
     "data": {
      "text/html": [
       "<div>\n",
       "<style scoped>\n",
       "    .dataframe tbody tr th:only-of-type {\n",
       "        vertical-align: middle;\n",
       "    }\n",
       "\n",
       "    .dataframe tbody tr th {\n",
       "        vertical-align: top;\n",
       "    }\n",
       "\n",
       "    .dataframe thead th {\n",
       "        text-align: right;\n",
       "    }\n",
       "</style>\n",
       "<table border=\"1\" class=\"dataframe\">\n",
       "  <thead>\n",
       "    <tr style=\"text-align: right;\">\n",
       "      <th></th>\n",
       "      <th>start</th>\n",
       "      <th>end</th>\n",
       "    </tr>\n",
       "  </thead>\n",
       "  <tbody>\n",
       "    <tr>\n",
       "      <th>0</th>\n",
       "      <td>969696980</td>\n",
       "      <td>628084091</td>\n",
       "    </tr>\n",
       "    <tr>\n",
       "      <th>1</th>\n",
       "      <td>1741993361</td>\n",
       "      <td>628084091</td>\n",
       "    </tr>\n",
       "    <tr>\n",
       "      <th>2</th>\n",
       "      <td>744944046</td>\n",
       "      <td>628084091</td>\n",
       "    </tr>\n",
       "    <tr>\n",
       "      <th>3</th>\n",
       "      <td>720931845</td>\n",
       "      <td>628084091</td>\n",
       "    </tr>\n",
       "    <tr>\n",
       "      <th>4</th>\n",
       "      <td>1079341516</td>\n",
       "      <td>628084091</td>\n",
       "    </tr>\n",
       "  </tbody>\n",
       "</table>\n",
       "</div>"
      ],
      "text/plain": [
       "        start        end\n",
       "0   969696980  628084091\n",
       "1  1741993361  628084091\n",
       "2   744944046  628084091\n",
       "3   720931845  628084091\n",
       "4  1079341516  628084091"
      ]
     },
     "execution_count": 10,
     "metadata": {},
     "output_type": "execute_result"
    }
   ],
   "source": [
    "edges.head()"
   ]
  },
  {
   "cell_type": "code",
   "execution_count": 11,
   "metadata": {},
   "outputs": [],
   "source": [
    "nodes.to_csv('./target_nodes.csv', index=False)\n",
    "edges.to_csv('./target_edges.csv', index=False)"
   ]
  },
  {
   "cell_type": "markdown",
   "metadata": {},
   "source": [
    "# Creating the Hero - Team Query Graph\n",
    "\n",
    "The query graph is created using a SPARQL query for Marvel Heros, Aliases and Groups."
   ]
  },
  {
   "cell_type": "code",
   "execution_count": 12,
   "metadata": {},
   "outputs": [],
   "source": [
    "sparql = SPARQLWrapper(\"https://query.wikidata.org/sparql\")\n",
    "sparql.setQuery(\"\"\"\n",
    "    SELECT ?character ?characterLabel ?group ?groupLabel ?birthName ?characterAltLabel \n",
    "    WHERE {\n",
    "        ?group wdt:P31 wd:Q14514600 ;  # group of fictional characters\n",
    "              wdt:P1080 wd:Q931597.    # from Marvel universe\n",
    "        ?character wdt:P463 ?group.    # member of group\n",
    "        optional{ ?character wdt:P1477 ?birthName. }\n",
    "      SERVICE wikibase:label { bd:serviceParam wikibase:language \"[AUTO_LANGUAGE],en\".}\n",
    "    }\n",
    "\"\"\")\n",
    "sparql.setReturnFormat(JSON)\n",
    "results = sparql.query().convert()"
   ]
  },
  {
   "cell_type": "code",
   "execution_count": 13,
   "metadata": {},
   "outputs": [],
   "source": [
    "# load the results into a pandas DataFrame\n",
    "records = []\n",
    "for result in results[\"results\"][\"bindings\"]:\n",
    "    character_id = result['character']['value']\n",
    "    group_id = result['group']['value']\n",
    "    name = result['characterLabel']['value']\n",
    "    group = result['groupLabel']['value']\n",
    "    alt_names = None\n",
    "    if 'characterAltLabel' in result:\n",
    "        alt_names = result['characterAltLabel']['value']\n",
    "    birth_name = None\n",
    "    if 'birthName' in result:\n",
    "        birth_name = result['birthName']['value']\n",
    "    records.append((character_id, group_id, name, group, birth_name, alt_names))\n",
    "\n",
    "frame = pd.DataFrame.from_records(records, columns=['character_id', 'group_id', 'name', 'group', 'birth_name', 'alt_names'])"
   ]
  },
  {
   "cell_type": "code",
   "execution_count": 14,
   "metadata": {},
   "outputs": [],
   "source": [
    "names = frame[['character_id', 'name']].drop_duplicates()\n",
    "groups = frame[['group_id', 'group']].drop_duplicates()\n",
    "character_group = frame[['character_id', 'group_id']].drop_duplicates()\n",
    "birth_names = frame[\n",
    "    frame['birth_name'].notna() # do not include a row for characters without a birthname\n",
    "][['character_id', 'birth_name']].drop_duplicates()"
   ]
  },
  {
   "cell_type": "code",
   "execution_count": 15,
   "metadata": {},
   "outputs": [],
   "source": [
    "records = []\n",
    "for uid, alt_names in zip(frame['character_id'], frame['alt_names']):\n",
    "    if alt_names is None:\n",
    "        continue\n",
    "    for name in alt_names.split(','):\n",
    "        records.append({'character_id': uid, 'alt_name': name})\n",
    "alt_names = pd.DataFrame.from_records(records).drop_duplicates()"
   ]
  },
  {
   "cell_type": "code",
   "execution_count": 16,
   "metadata": {},
   "outputs": [],
   "source": [
    "nodes = pd.concat(\n",
    "    [\n",
    "        pd.DataFrame({\n",
    "            'id': list(map(get_id, names['character_id'])), \n",
    "            'label': names['name'],\n",
    "            'type': 0\n",
    "        }),\n",
    "        pd.DataFrame({\n",
    "            'id': list(map(get_id, groups['group_id'])), \n",
    "            'label': groups['group'],\n",
    "            'type': 1, \n",
    "        }),\n",
    "        pd.DataFrame({\n",
    "            'id': list(map(get_id, birth_names['birth_name'])), \n",
    "            'label': birth_names['birth_name'].str.strip(),\n",
    "            'type': 2, \n",
    "        }),\n",
    "        pd.DataFrame({\n",
    "            'id': list(map(get_id, alt_names['alt_name'])), \n",
    "            'label': alt_names['alt_name'].str.strip(),\n",
    "            'type': 2, \n",
    "        })\n",
    "    ], \n",
    "    sort=True\n",
    ").drop_duplicates()\n",
    "nodes.to_csv('./query_nodes.csv', index=False)"
   ]
  },
  {
   "cell_type": "code",
   "execution_count": 17,
   "metadata": {},
   "outputs": [],
   "source": [
    "edges = pd.concat([\n",
    "    # character to group\n",
    "    pd.DataFrame([\n",
    "        {'start': get_id(start), 'end': get_id(end)}\n",
    "        for start, end in zip(character_group['character_id'], character_group['group_id'])\n",
    "    ]),\n",
    "#     # group to character\n",
    "    pd.DataFrame([\n",
    "        {'start': get_id(end), 'end': get_id(start)}\n",
    "        for start, end in zip(character_group['character_id'], character_group['group_id'])\n",
    "    ]),\n",
    "    # character to alt name\n",
    "    pd.DataFrame([\n",
    "        {'start': get_id(start), 'end': get_id(end)}\n",
    "        for start, end in zip(alt_names['character_id'], alt_names['alt_name'])\n",
    "    ]),\n",
    "    # alt name to character\n",
    "    pd.DataFrame([\n",
    "        {'start': get_id(end), 'end': get_id(start)}\n",
    "        for start, end in zip(alt_names['character_id'], alt_names['alt_name'])\n",
    "    ])\n",
    "])\n",
    "edges.to_csv('./query_edges.csv', index=False)"
   ]
  },
  {
   "cell_type": "markdown",
   "metadata": {},
   "source": [
    "## Joining the Datasets"
   ]
  },
  {
   "cell_type": "code",
   "execution_count": 18,
   "metadata": {},
   "outputs": [],
   "source": [
    "import fornax\n",
    "from sqlalchemy import create_engine\n",
    "from sqlalchemy.orm.session import Session\n",
    "from sqlalchemy.orm import Query\n",
    "from sqlalchemy import literal"
   ]
  },
  {
   "cell_type": "code",
   "execution_count": 19,
   "metadata": {},
   "outputs": [],
   "source": [
    "engine = create_engine('sqlite://', echo=False)\n",
    "connection = engine.connect()\n",
    "fornax.model.Base.metadata.create_all(connection)\n",
    "\n",
    "target_nodes_df = pd.read_csv('./target_nodes.csv')\n",
    "# create a list of TargetNode objects\n",
    "target_nodes = [\n",
    "    fornax.model.TargetNode(id=uid, type=type_) \n",
    "    for uid, type_ in zip(target_nodes_df['id'], target_nodes_df['type'])\n",
    "]\n",
    "\n",
    "session = Session(connection)\n",
    "session.add_all(target_nodes)\n",
    "session.commit()\n",
    "\n",
    "target_edges_df = pd.read_csv('./target_edges.csv')\n",
    "# create a list of TargetEdge objects\n",
    "target_edges = [fornax.model.TargetEdge(start=start, end=end) for start, end in zip(target_edges_df['start'], target_edges_df['end'])]\n",
    "\n",
    "\n",
    "session.add_all(target_edges)\n",
    "session.commit()\n",
    "\n",
    "query_nodes_df = pd.read_csv('./query_nodes.csv')\n",
    "query_edges_df = pd.read_csv('./query_edges.csv')\n",
    "query_nodes = [\n",
    "    fornax.model.QueryNode(id=uid, type=type_) for uid, type_ in zip(query_nodes_df['id'], query_nodes_df['type'])\n",
    "]\n",
    "\n",
    "\n",
    "session.add_all(query_nodes)\n",
    "session.commit()\n",
    "\n",
    "# create a list of TargetEdge objects\n",
    "query_edges = [fornax.model.QueryEdge(start=start, end=end) for start, end in zip(query_edges_df['start'], query_edges_df['end'])]\n",
    "\n",
    "session.add_all(query_edges)\n",
    "session.commit()"
   ]
  },
  {
   "cell_type": "code",
   "execution_count": 20,
   "metadata": {},
   "outputs": [],
   "source": [
    "seed = Query([\n",
    "    fornax.model.QueryNode.id.label('neighbour'),\n",
    "    literal(0).label('distance')\n",
    "]).filter(fornax.model.QueryNode.id == 815697369)\n",
    "query = fornax.select.neighbours(fornax.model.QueryNode, seed, 1)"
   ]
  },
  {
   "cell_type": "code",
   "execution_count": 21,
   "metadata": {},
   "outputs": [],
   "source": [
    "query_node_ids, distances = zip(*query.with_session(session).all())\n",
    "query_node_ids = list(query_node_ids)\n",
    "# seed.with_session(session).all()"
   ]
  },
  {
   "cell_type": "code",
   "execution_count": 22,
   "metadata": {},
   "outputs": [],
   "source": [
    "from sklearn.feature_extraction.text import CountVectorizer\n",
    "from sklearn.neighbors import BallTree\n",
    "\n",
    "count_vectorizer = CountVectorizer(analyzer='char_wb', lowercase=True, ngram_range=[3, 3])\n",
    "search_tree = BallTree(count_vectorizer.fit_transform(target_nodes_df['label'].str.lower()).toarray(), metric='jaccard')"
   ]
  },
  {
   "cell_type": "code",
   "execution_count": 23,
   "metadata": {},
   "outputs": [],
   "source": [
    "neighbours = query_nodes_df.set_index('id').loc[query_node_ids]\n",
    "matches_array, all_distances = search_tree.query_radius(\n",
    "    count_vectorizer.transform(neighbours['label'].str.lower()).toarray(), \n",
    "    r=.7,\n",
    "    return_distance=True\n",
    ")"
   ]
  },
  {
   "cell_type": "code",
   "execution_count": 24,
   "metadata": {},
   "outputs": [],
   "source": [
    "matches = []\n",
    "for query_node_id, target_node_offsets, distances in zip(query_node_ids, matches_array, all_distances):\n",
    "    for target_node_offset, distance in zip(target_node_offsets, distances):\n",
    "        \n",
    "        matches.append(\n",
    "            fornax.model.Match(\n",
    "                start=int(query_node_id), \n",
    "                end=int(target_nodes_df.iloc[target_node_offset]['id']), \n",
    "                weight=1. - distance\n",
    "            )\n",
    "        )"
   ]
  },
  {
   "cell_type": "code",
   "execution_count": 25,
   "metadata": {},
   "outputs": [],
   "source": [
    "session.add_all(matches)\n",
    "session.commit()"
   ]
  },
  {
   "cell_type": "code",
   "execution_count": 26,
   "metadata": {},
   "outputs": [],
   "source": [
    "match_starts = set(m.start for m in matches)\n",
    "match_ends = set(m.end for m in matches)\n",
    "\n",
    "for q in query_edges:\n",
    "    if q.start in match_starts and q.end in match_starts:\n",
    "        continue\n",
    "    session.delete(q)\n",
    "        \n",
    "\n",
    "for q in query_nodes:\n",
    "    if q.id in match_starts:\n",
    "        continue\n",
    "    session.delete(q)\n",
    "session.commit()"
   ]
  },
  {
   "cell_type": "code",
   "execution_count": 27,
   "metadata": {},
   "outputs": [
    {
     "name": "stdout",
     "output_type": "stream",
     "text": [
      "CPU times: user 4.39 s, sys: 139 ms, total: 4.53 s\n",
      "Wall time: 4.56 s\n"
     ]
    }
   ],
   "source": [
    "%%time\n",
    "batched_records, i, batch_size, finished = [], 0, 10000, False\n",
    "while not finished:\n",
    "    query = fornax.select.join(2, [i, i+batch_size])\n",
    "    next_batch = query.with_session(session).all()\n",
    "    batched_records += next_batch\n",
    "\n",
    "    if len(next_batch) == 0:\n",
    "        finished = True\n",
    "\n",
    "    i += batch_size"
   ]
  },
  {
   "cell_type": "code",
   "execution_count": 28,
   "metadata": {},
   "outputs": [
    {
     "name": "stderr",
     "output_type": "stream",
     "text": [
      "/Users/mdean/anaconda3/envs/fornax/lib/python3.6/site-packages/numpy/core/records.py:513: FutureWarning: Numpy has detected that you may be viewing or writing to an array returned by selecting multiple fields in a structured array. \n",
      "\n",
      "This code may break in numpy 1.15 because this will return a view instead of a copy -- see release notes for details.\n",
      "  return obj.view(dtype=(self.dtype.type, obj.dtype))\n"
     ]
    },
    {
     "name": "stdout",
     "output_type": "stream",
     "text": [
      "CPU times: user 8.35 s, sys: 31.1 ms, total: 8.39 s\n",
      "Wall time: 8.39 s\n"
     ]
    }
   ],
   "source": [
    "%time subs = fornax.opt.solve(batched_records, max_iters=20, n=3)"
   ]
  },
  {
   "cell_type": "code",
   "execution_count": 29,
   "metadata": {},
   "outputs": [
    {
     "name": "stdout",
     "output_type": "stream",
     "text": [
      "Namor <--> NAMORITA\n",
      "Havok <--> HAVOK\n",
      "Hyperion <--> HYPERION\n",
      "Maria Hill <--> STARK, MARIA\n",
      "Captain America <--> CAPTAIN AMERICA\n",
      "Stingray <--> STINGRAY\n",
      "Sandman <--> SANDMAN\n",
      "Invisible Woman <--> INVISIBLE WOMAN\n",
      "Swordsman <--> SWORDSMAN\n",
      "Captain Marvel <--> CAPTAIN MARVEL\n",
      "Thing <--> THING\n",
      "Wolverine <--> WOLVERINE\n",
      "Yondu <--> CHONDU\n",
      "Firestar <--> FIRESTAR\n",
      "Monica Rambeau <--> RAMBEAU, MARIA\n",
      "Squirrel-Girl <--> SQUIRE\n",
      "Rage <--> RAGE\n",
      "Century <--> CENTURY\n",
      "Doctor Druid <--> DR. DRUID\n",
      "Patsy Walker <--> AIR-WALKER\n",
      "Ant-Man <--> STILT-MAN\n",
      "Black Widow <--> BLACK WIDOW\n",
      "U.S. Agent <--> USAGENT\n",
      "Quasar <--> QUASAR III\n",
      "Deadpool <--> DEADPOOL\n",
      "Scarlet Witch <--> SCARLET WITCH\n",
      "Mantis <--> MANTIS\n",
      "Wonder Man <--> WONDER MAN\n",
      "Avengers <--> BLACK AVENGER\n",
      "Doctor Octopus <--> DR. OCTOPUS II\n",
      "Moon Knight <--> MOON KNIGHT\n",
      "Luke Cage <--> CAGE, LUKE\n",
      "Sentry <--> SENTRY 459\n",
      "Daisy Johnson <--> JOHNSON, ANNA\n",
      "Thor <--> THOR\n",
      "Falcon <--> FALCON\n",
      "Firebird <--> FIRELORD\n",
      "Silverclaw <--> SILVER SURFER\n",
      "Black Panther <--> BLACK PANTHER\n",
      "Quicksilver <--> QUICKSILVER\n",
      "Deathcry <--> DEATH\n",
      "Vision <--> VISION\n",
      "Ms. Marvel <--> MS. MARVEL II\n",
      "Black Knight <--> BLACK KNIGHT V\n",
      "Cannonball <--> CANNONBALL II\n",
      "Dum Dum Dugan <--> DUGAN, DUM DUM\n",
      "Henry Pym <--> HENRY &HANK& P\n",
      "Bucky Barnes <--> BUCKY VII\n",
      "Crystal <--> CRYSTAL [INHUMAN]\n",
      "Beast <--> BEAST\n",
      "War Machine <--> MACHINE MAN\n",
      "Spider-Woman <--> SPIDER-MAN\n",
      "Starfox <--> STARFOX\n",
      "Mister Fantastic <--> MR. FANTASTIC\n",
      "Jocasta <--> JOCASTA\n",
      "Wasp <--> WASP\n",
      "Henry Peter Gyrich <--> GYRICH, HENRY PETER\n",
      "Sersi <--> SERSI\n",
      "3-D Man <--> IRON MAN\n",
      "Black Widow <--> BLACK CAT\n",
      "Iron Fist <--> IRON FIST\n",
      "Iron Man <--> IRON MAN\n",
      "Hercules <--> HERCULES [GREEK GOD]\n",
      "Ant-Man <--> ANT-MAN\n",
      "Thunderbolt Ross <--> THUNDERBALL\n",
      "Doctor Doom <--> DR. DOOM\n",
      "Hulk <--> HULK\n",
      "Jessica Jones <--> CARRADINE, JESSICA J\n",
      "She-Hulk <--> SHE-HULK\n"
     ]
    }
   ],
   "source": [
    "for q, t in subs[0][0]:\n",
    "    print(\n",
    "        query_nodes_df[query_nodes_df['id'] == q]['label'].iloc[0] \n",
    "        + ' <--> ' \n",
    "        + target_nodes_df[target_nodes_df['id'] == t]['label'].iloc[0]\n",
    "    )"
   ]
  },
  {
   "cell_type": "code",
   "execution_count": null,
   "metadata": {},
   "outputs": [],
   "source": [
    "subs[0]"
   ]
  },
  {
   "cell_type": "code",
   "execution_count": null,
   "metadata": {},
   "outputs": [],
   "source": [
    "subs[0][1]"
   ]
  },
  {
   "cell_type": "code",
   "execution_count": null,
   "metadata": {},
   "outputs": [],
   "source": [
    "ids = pd.read_sql(\"\"\"SELECT match.end FROM match\"\"\", con=connection)['end']\n",
    "target_nodes_df.set_index('id').loc[ids]['label'].unique()"
   ]
  },
  {
   "cell_type": "code",
   "execution_count": null,
   "metadata": {},
   "outputs": [],
   "source": [
    "ids = pd.read_sql(\"\"\"SELECT match.start FROM match\"\"\", con=connection)['start']\n",
    "query_nodes_df.set_index('id').loc[ids]['label'].unique()"
   ]
  },
  {
   "cell_type": "code",
   "execution_count": null,
   "metadata": {},
   "outputs": [],
   "source": [
    "target_nodes_df.iloc[[490, 962, 2870, 3734, 4035, 5822, 6214, 11576, 15693]]"
   ]
  },
  {
   "cell_type": "code",
   "execution_count": null,
   "metadata": {},
   "outputs": [],
   "source": [
    "import pickle\n",
    "with open('../../records.pk', 'wb') as fp:\n",
    "    pickle.dump(batched_records, fp)"
   ]
  },
  {
   "cell_type": "code",
   "execution_count": null,
   "metadata": {},
   "outputs": [],
   "source": []
  },
  {
   "cell_type": "code",
   "execution_count": null,
   "metadata": {},
   "outputs": [],
   "source": [
    "query_nodes_df[query_nodes_df['id'] == 952046635]"
   ]
  },
  {
   "cell_type": "code",
   "execution_count": null,
   "metadata": {},
   "outputs": [],
   "source": [
    "target_nodes_df[target_nodes_df['id'] == 1432924047]"
   ]
  },
  {
   "cell_type": "code",
   "execution_count": null,
   "metadata": {},
   "outputs": [],
   "source": [
    "sorted(query_nodes_df['id'])"
   ]
  },
  {
   "cell_type": "code",
   "execution_count": null,
   "metadata": {},
   "outputs": [],
   "source": [
    "pd.read_sql(\"\"\"SELECT * FROM query_node WHERE id = 1421458225\"\"\", con=connection)"
   ]
  },
  {
   "cell_type": "code",
   "execution_count": null,
   "metadata": {},
   "outputs": [],
   "source": [
    "query_nodes_df[query_nodes_df['label'] == 'Avengers']"
   ]
  },
  {
   "cell_type": "code",
   "execution_count": null,
   "metadata": {},
   "outputs": [],
   "source": [
    "pd.read_sql(\"\"\"SELECT * FROM query_node WHERE id = 1432924047\"\"\", con=connection)"
   ]
  },
  {
   "cell_type": "code",
   "execution_count": null,
   "metadata": {},
   "outputs": [],
   "source": [
    "pd.read_sql(\"\"\"SELECT * FROM target_node WHERE id = 1432924047\"\"\", con=connection)"
   ]
  },
  {
   "cell_type": "code",
   "execution_count": null,
   "metadata": {},
   "outputs": [],
   "source": [
    "pd.read_sql(\"\"\"SELECT * FROM query_node LIMIT 10\"\"\", con=connection)"
   ]
  },
  {
   "cell_type": "code",
   "execution_count": null,
   "metadata": {},
   "outputs": [],
   "source": [
    "query_nodes_df[query_nodes_df['id'] == 952046635]"
   ]
  },
  {
   "cell_type": "code",
   "execution_count": null,
   "metadata": {},
   "outputs": [],
   "source": [
    "target_nodes_df[target_nodes_df['id'] == 1605271291]"
   ]
  },
  {
   "cell_type": "code",
   "execution_count": null,
   "metadata": {},
   "outputs": [],
   "source": []
  }
 ],
 "metadata": {
  "kernelspec": {
   "display_name": "Python 3",
   "language": "python",
   "name": "python3"
  },
  "language_info": {
   "codemirror_mode": {
    "name": "ipython",
    "version": 3
   },
   "file_extension": ".py",
   "mimetype": "text/x-python",
   "name": "python",
   "nbconvert_exporter": "python",
   "pygments_lexer": "ipython3",
   "version": "3.6.5"
  }
 },
 "nbformat": 4,
 "nbformat_minor": 2
}
