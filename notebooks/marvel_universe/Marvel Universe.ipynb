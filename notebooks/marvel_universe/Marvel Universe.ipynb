{
 "cells": [
  {
   "cell_type": "code",
   "execution_count": 1,
   "metadata": {},
   "outputs": [],
   "source": [
    "import pandas as pd\n",
    "import numpy as np\n",
    "import urllib.request as request\n",
    "from SPARQLWrapper import SPARQLWrapper, JSON"
   ]
  },
  {
   "cell_type": "markdown",
   "metadata": {},
   "source": [
    "## Creating the Hero - Comic Target Graph\n",
    "\n",
    "The hero-comic book dataset on github contains the name of each Marvel hero, the comics that they have appeared in and the birth name of the hero (if available).\n",
    "\n",
    "Let's download the dataset and inspect it. \n",
    "The hero column can contain two values seperated by a slash so we'll split these out into seperate columns."
   ]
  },
  {
   "cell_type": "code",
   "execution_count": null,
   "metadata": {},
   "outputs": [],
   "source": [
    "def get_id(url):\n",
    "    \"\"\" A function to map the python hash function onto 32-bit integers\"\"\"\n",
    "    return hash(url) % 2147483647"
   ]
  },
  {
   "cell_type": "code",
   "execution_count": null,
   "metadata": {},
   "outputs": [],
   "source": [
    "fp = request.urlopen('http://syntagmatic.github.io/exposedata/marvel/data/source.csv')\n",
    "hero_comic_name_df = pd.read_csv(fp, names=['hero', 'comic'])\n",
    "hero_comic_name_df['hero_id'] = list(map(get_id, hero_comic_name_df['hero'].str.upper()))\n",
    "hero_comic_name_df['hero'] = hero_comic_name_df.hero.str.split('|').str.get(0).str.strip()\n",
    "hero_comic_name_df['name'] = hero_comic_name_df.hero.str.split('/').str.get(1).str.strip()\n",
    "hero_comic_name_df['hero'] = hero_comic_name_df.hero.str.split('/').str.get(0).str.strip()\n",
    "hero_comic_name_df['name_id'] = list(map(get_id, hero_comic_name_df['name'].str.lower()))\n",
    "hero_comic_name_df['comic_id'] = list(map(get_id, hero_comic_name_df['comic'].str.lower()))\n",
    "hero_comic_name_df.head()"
   ]
  },
  {
   "cell_type": "markdown",
   "metadata": {},
   "source": [
    "Really the dataset ought to be represented by two tables. \n",
    "One representing heros and their names.\n",
    "The other representing heros and the comics they have featured in.\n",
    "Let's do that to remove duplicates and NaN entries."
   ]
  },
  {
   "cell_type": "code",
   "execution_count": null,
   "metadata": {},
   "outputs": [],
   "source": [
    "hero_name_df = hero_comic_name_df[['hero_id', 'name_id', 'hero', 'name']].drop_duplicates()\n",
    "hero_name_df['name'].replace('', np.nan, inplace=True)\n",
    "hero_name_df = hero_name_df[hero_name_df['name'].notnull()]\n",
    "hero_name_df.head()"
   ]
  },
  {
   "cell_type": "code",
   "execution_count": null,
   "metadata": {},
   "outputs": [],
   "source": [
    "hero_comic_df = hero_comic_name_df[['hero_id', 'comic_id', 'hero', 'comic']].drop_duplicates()\n",
    "hero_comic_df.head()"
   ]
  },
  {
   "cell_type": "markdown",
   "metadata": {},
   "source": [
    "Finally we could like to represent heros, names and comics with unique 32 bit integer identifiers rather than strings.\n",
    "We'll do this using the function `get_id` that maps the python hash funtion onto the range of 32-bit ints.\n",
    "This allows us to make one table of nodes and one table of edges which is a more ideomatic representation of a graph."
   ]
  },
  {
   "cell_type": "code",
   "execution_count": null,
   "metadata": {},
   "outputs": [],
   "source": [
    "heros = hero_comic_df[['hero_id', 'hero']].drop_duplicates()\n",
    "comic = hero_comic_df[['comic_id', 'comic']].drop_duplicates()\n",
    "names = hero_name_df[['name_id', 'name']].drop_duplicates()\n",
    "\n",
    "nodes = pd.concat(\n",
    "    [\n",
    "        pd.DataFrame({\n",
    "            'id': heros['hero_id'],\n",
    "            'label': heros['hero'],\n",
    "            'type': 0\n",
    "        }),\n",
    "        pd.DataFrame({\n",
    "            'id': comic['comic_id'],\n",
    "            'label': comic['comic'],\n",
    "            'type': 1\n",
    "        }),\n",
    "        pd.DataFrame({\n",
    "            'id': names['name_id'],\n",
    "            'label': names['name'],\n",
    "            'type': 2\n",
    "        }),  \n",
    "    ]\n",
    ")"
   ]
  },
  {
   "cell_type": "code",
   "execution_count": null,
   "metadata": {},
   "outputs": [],
   "source": [
    "edges = pd.concat(\n",
    "    [\n",
    "        pd.DataFrame({\n",
    "            'start': hero_comic_df['hero_id'],\n",
    "            'end': hero_comic_df['comic_id'],\n",
    "        }),\n",
    "        pd.DataFrame({\n",
    "            'start': hero_name_df['hero_id'],\n",
    "            'end': hero_name_df['name_id'],\n",
    "        }),\n",
    "        pd.DataFrame({\n",
    "            'end': hero_comic_df['hero_id'],\n",
    "            'start': hero_comic_df['comic_id'],\n",
    "        }),\n",
    "        pd.DataFrame({\n",
    "            'end': hero_name_df['hero_id'],\n",
    "            'start': hero_name_df['name_id'],\n",
    "        }),\n",
    "    ],\n",
    "    sort=False\n",
    ")"
   ]
  },
  {
   "cell_type": "code",
   "execution_count": null,
   "metadata": {},
   "outputs": [],
   "source": [
    "len(nodes), len(edges)"
   ]
  },
  {
   "cell_type": "code",
   "execution_count": null,
   "metadata": {},
   "outputs": [],
   "source": [
    "nodes.head()"
   ]
  },
  {
   "cell_type": "code",
   "execution_count": null,
   "metadata": {},
   "outputs": [],
   "source": [
    "edges.head()"
   ]
  },
  {
   "cell_type": "code",
   "execution_count": null,
   "metadata": {},
   "outputs": [],
   "source": [
    "nodes.to_csv('./target_nodes.csv', index=False)\n",
    "edges.to_csv('./target_edges.csv', index=False)"
   ]
  },
  {
   "cell_type": "markdown",
   "metadata": {},
   "source": [
    "# Creating the Hero - Team Query Graph\n",
    "\n",
    "The query graph is created using a SPARQL query for Marvel Heros, Aliases and Groups."
   ]
  },
  {
   "cell_type": "code",
   "execution_count": null,
   "metadata": {},
   "outputs": [],
   "source": [
    "sparql = SPARQLWrapper(\"https://query.wikidata.org/sparql\")\n",
    "sparql.setQuery(\"\"\"\n",
    "    SELECT ?character ?characterLabel ?group ?groupLabel ?birthName ?characterAltLabel \n",
    "    WHERE {\n",
    "        ?group wdt:P31 wd:Q14514600 ;  # group of fictional characters\n",
    "              wdt:P1080 wd:Q931597.    # from Marvel universe\n",
    "        ?character wdt:P463 ?group.    # member of group\n",
    "        optional{ ?character wdt:P1477 ?birthName. }\n",
    "      SERVICE wikibase:label { bd:serviceParam wikibase:language \"[AUTO_LANGUAGE],en\".}\n",
    "    }\n",
    "\"\"\")\n",
    "sparql.setReturnFormat(JSON)\n",
    "results = sparql.query().convert()"
   ]
  },
  {
   "cell_type": "code",
   "execution_count": null,
   "metadata": {},
   "outputs": [],
   "source": [
    "# load the results into a pandas DataFrame\n",
    "records = []\n",
    "for result in results[\"results\"][\"bindings\"]:\n",
    "    character_id = result['character']['value']\n",
    "    group_id = result['group']['value']\n",
    "    name = result['characterLabel']['value']\n",
    "    group = result['groupLabel']['value']\n",
    "    alt_names = None\n",
    "    if 'characterAltLabel' in result:\n",
    "        alt_names = result['characterAltLabel']['value']\n",
    "    birth_name = None\n",
    "    if 'birthName' in result:\n",
    "        birth_name = result['birthName']['value']\n",
    "    records.append((character_id, group_id, name, group, birth_name, alt_names))\n",
    "\n",
    "frame = pd.DataFrame.from_records(records, columns=['character_id', 'group_id', 'name', 'group', 'birth_name', 'alt_names'])"
   ]
  },
  {
   "cell_type": "code",
   "execution_count": null,
   "metadata": {},
   "outputs": [],
   "source": [
    "names = frame[['character_id', 'name']].drop_duplicates()\n",
    "groups = frame[['group_id', 'group']].drop_duplicates()\n",
    "character_group = frame[['character_id', 'group_id']].drop_duplicates()\n",
    "birth_names = frame[\n",
    "    frame['birth_name'].notna() # do not include a row for characters without a birthname\n",
    "][['character_id', 'birth_name']].drop_duplicates()"
   ]
  },
  {
   "cell_type": "code",
   "execution_count": null,
   "metadata": {},
   "outputs": [],
   "source": [
    "records = []\n",
    "for uid, alt_names in zip(frame['character_id'], frame['alt_names']):\n",
    "    if alt_names is None:\n",
    "        continue\n",
    "    for name in alt_names.split(','):\n",
    "        records.append({'character_id': uid, 'alt_name': name})\n",
    "alt_names = pd.DataFrame.from_records(records).drop_duplicates()"
   ]
  },
  {
   "cell_type": "code",
   "execution_count": null,
   "metadata": {},
   "outputs": [],
   "source": [
    "nodes = pd.concat(\n",
    "    [\n",
    "        pd.DataFrame({\n",
    "            'id': list(map(get_id, names['character_id'])), \n",
    "            'label': names['name'],\n",
    "            'type': 0\n",
    "        }),\n",
    "        pd.DataFrame({\n",
    "            'id': list(map(get_id, groups['group_id'])), \n",
    "            'label': groups['group'],\n",
    "            'type': 1, \n",
    "        }),\n",
    "        pd.DataFrame({\n",
    "            'id': list(map(get_id, birth_names['birth_name'])), \n",
    "            'label': birth_names['birth_name'].str.strip(),\n",
    "            'type': 2, \n",
    "        }),\n",
    "        pd.DataFrame({\n",
    "            'id': list(map(get_id, alt_names['alt_name'])), \n",
    "            'label': alt_names['alt_name'].str.strip(),\n",
    "            'type': 2, \n",
    "        })\n",
    "    ], \n",
    "    sort=True\n",
    ").drop_duplicates()\n",
    "nodes.to_csv('./query_nodes.csv', index=False)"
   ]
  },
  {
   "cell_type": "code",
   "execution_count": null,
   "metadata": {},
   "outputs": [],
   "source": [
    "edges = pd.concat([\n",
    "    # character to group\n",
    "    pd.DataFrame([\n",
    "        {'start': get_id(start), 'end': get_id(end)}\n",
    "        for start, end in zip(character_group['character_id'], character_group['group_id'])\n",
    "    ]),\n",
    "#     # group to character\n",
    "    pd.DataFrame([\n",
    "        {'start': get_id(end), 'end': get_id(start)}\n",
    "        for start, end in zip(character_group['character_id'], character_group['group_id'])\n",
    "    ]),\n",
    "    # character to alt name\n",
    "    pd.DataFrame([\n",
    "        {'start': get_id(start), 'end': get_id(end)}\n",
    "        for start, end in zip(alt_names['character_id'], alt_names['alt_name'])\n",
    "    ]),\n",
    "    # alt name to character\n",
    "    pd.DataFrame([\n",
    "        {'start': get_id(end), 'end': get_id(start)}\n",
    "        for start, end in zip(alt_names['character_id'], alt_names['alt_name'])\n",
    "    ])\n",
    "])\n",
    "edges.to_csv('./query_edges.csv', index=False)"
   ]
  },
  {
   "cell_type": "markdown",
   "metadata": {},
   "source": [
    "## Joining the Datasets"
   ]
  },
  {
   "cell_type": "code",
   "execution_count": 2,
   "metadata": {},
   "outputs": [],
   "source": [
    "import fornax\n",
    "from sqlalchemy import create_engine\n",
    "from sqlalchemy.orm.session import Session\n",
    "from sqlalchemy.orm import Query\n",
    "from sqlalchemy import literal"
   ]
  },
  {
   "cell_type": "code",
   "execution_count": 3,
   "metadata": {},
   "outputs": [],
   "source": [
    "engine = create_engine('sqlite://', echo=False)\n",
    "connection = engine.connect()\n",
    "fornax.model.Base.metadata.create_all(connection)\n",
    "\n",
    "target_nodes_df = pd.read_csv('./target_nodes.csv')\n",
    "# create a list of TargetNode objects\n",
    "target_nodes = [\n",
    "    fornax.model.TargetNode(id=uid, type=type_) \n",
    "    for uid, type_ in zip(target_nodes_df['id'], target_nodes_df['type'])\n",
    "]\n",
    "\n",
    "session = Session(connection)\n",
    "session.add_all(target_nodes)\n",
    "session.commit()\n",
    "\n",
    "target_edges_df = pd.read_csv('./target_edges.csv')\n",
    "# create a list of TargetEdge objects\n",
    "target_edges = [fornax.model.TargetEdge(start=start, end=end) for start, end in zip(target_edges_df['start'], target_edges_df['end'])]\n",
    "\n",
    "\n",
    "session.add_all(target_edges)\n",
    "session.commit()\n",
    "\n",
    "query_nodes_df = pd.read_csv('./query_nodes.csv')\n",
    "query_edges_df = pd.read_csv('./query_edges.csv')\n",
    "query_nodes = [\n",
    "    fornax.model.QueryNode(id=uid, type=type_) for uid, type_ in zip(query_nodes_df['id'], query_nodes_df['type'])\n",
    "]\n",
    "\n",
    "\n",
    "session.add_all(query_nodes)\n",
    "session.commit()\n",
    "\n",
    "# create a list of TargetEdge objects\n",
    "query_edges = [fornax.model.QueryEdge(start=start, end=end) for start, end in zip(query_edges_df['start'], query_edges_df['end'])]\n",
    "\n",
    "session.add_all(query_edges)\n",
    "session.commit()"
   ]
  },
  {
   "cell_type": "code",
   "execution_count": 4,
   "metadata": {},
   "outputs": [],
   "source": [
    "seed = Query([\n",
    "    fornax.model.QueryNode.id.label('neighbour'),\n",
    "    literal(0).label('distance')\n",
    "]).filter(fornax.model.QueryNode.id == 1241907327)\n",
    "query = fornax.select.neighbours(fornax.model.QueryNode, seed, 1)"
   ]
  },
  {
   "cell_type": "code",
   "execution_count": 5,
   "metadata": {},
   "outputs": [],
   "source": [
    "query_node_ids, distances = zip(*query.with_session(session).all())\n",
    "query_node_ids = list(query_node_ids)"
   ]
  },
  {
   "cell_type": "code",
   "execution_count": 6,
   "metadata": {},
   "outputs": [],
   "source": [
    "from sklearn.feature_extraction.text import CountVectorizer\n",
    "from sklearn.neighbors import BallTree\n",
    "\n",
    "count_vectorizer = CountVectorizer(analyzer='char_wb', lowercase=True, ngram_range=[3, 3])\n",
    "search_tree = BallTree(count_vectorizer.fit_transform(target_nodes_df['label'].str.lower()).toarray(), metric='jaccard')"
   ]
  },
  {
   "cell_type": "code",
   "execution_count": 7,
   "metadata": {},
   "outputs": [],
   "source": [
    "neighbours = query_nodes_df.set_index('id').loc[query_node_ids]\n",
    "matches_array, all_distances = search_tree.query_radius(\n",
    "    count_vectorizer.transform(neighbours['label'].str.lower()).toarray(), \n",
    "    r=.7,\n",
    "    return_distance=True\n",
    ")"
   ]
  },
  {
   "cell_type": "code",
   "execution_count": 8,
   "metadata": {},
   "outputs": [],
   "source": [
    "matches = []\n",
    "for query_node_id, target_node_offsets, distances in zip(query_node_ids, matches_array, all_distances):\n",
    "    for target_node_offset, distance in zip(target_node_offsets, distances):\n",
    "        \n",
    "        matches.append(\n",
    "            fornax.model.Match(\n",
    "                start=int(query_node_id), \n",
    "                end=int(target_nodes_df.iloc[target_node_offset]['id']), \n",
    "                weight=1. - distance\n",
    "            )\n",
    "        )"
   ]
  },
  {
   "cell_type": "code",
   "execution_count": 9,
   "metadata": {},
   "outputs": [],
   "source": [
    "session.add_all(matches)\n",
    "session.commit()"
   ]
  },
  {
   "cell_type": "code",
   "execution_count": 10,
   "metadata": {},
   "outputs": [],
   "source": [
    "match_starts = set(m.start for m in matches)\n",
    "match_ends = set(m.end for m in matches)\n",
    "\n",
    "for q in query_edges:\n",
    "    if q.start in match_starts and q.end in match_starts:\n",
    "        continue\n",
    "    session.delete(q)\n",
    "        \n",
    "\n",
    "for q in query_nodes:\n",
    "    if q.id in match_starts:\n",
    "        continue\n",
    "    session.delete(q)\n",
    "session.commit()"
   ]
  },
  {
   "cell_type": "code",
   "execution_count": 11,
   "metadata": {},
   "outputs": [
    {
     "name": "stdout",
     "output_type": "stream",
     "text": [
      "CPU times: user 4.88 s, sys: 132 ms, total: 5.01 s\n",
      "Wall time: 5.03 s\n"
     ]
    }
   ],
   "source": [
    "%%time\n",
    "batched_records, i, batch_size, finished = [], 0, 10000, False\n",
    "while not finished:\n",
    "    query = fornax.select.join(2, [i, i+batch_size])\n",
    "    next_batch = query.with_session(session).all()\n",
    "    batched_records += next_batch\n",
    "\n",
    "    if len(next_batch) == 0:\n",
    "        finished = True\n",
    "\n",
    "    i += batch_size"
   ]
  },
  {
   "cell_type": "code",
   "execution_count": 12,
   "metadata": {},
   "outputs": [
    {
     "name": "stderr",
     "output_type": "stream",
     "text": [
      "/Users/dstaff/anaconda3/envs/fornax/lib/python3.6/site-packages/numpy/core/records.py:513: FutureWarning: Numpy has detected that you may be viewing or writing to an array returned by selecting multiple fields in a structured array. \n",
      "\n",
      "This code may break in numpy 1.15 because this will return a view instead of a copy -- see release notes for details.\n",
      "  return obj.view(dtype=(self.dtype.type, obj.dtype))\n"
     ]
    },
    {
     "name": "stdout",
     "output_type": "stream",
     "text": [
      "CPU times: user 1.75 s, sys: 19.1 ms, total: 1.77 s\n",
      "Wall time: 1.77 s\n"
     ]
    }
   ],
   "source": [
    "%time subs = fornax.opt.solve(batched_records, max_iters=20, n=3)"
   ]
  },
  {
   "cell_type": "code",
   "execution_count": 13,
   "metadata": {},
   "outputs": [
    {
     "name": "stdout",
     "output_type": "stream",
     "text": [
      "Vision <--> VISION\n",
      "Monica Rambeau <--> RAMBEAU, MARIA\n",
      "Black Widow <--> BLACK WIDOW\n",
      "Bucky Barnes <--> BUCKY II\n",
      "War Machine <--> MACHINE MAN\n",
      "Sandman <--> SANDMAN\n",
      "3-D Man <--> IRON MAN\n",
      "Cannonball <--> CANNONBALL II\n",
      "Deadpool <--> DEADPOOL\n",
      "Luke Cage <--> CAGE, LUKE\n",
      "Swordsman <--> SWORDSMAN\n",
      "U.S. Agent <--> USAGENT\n",
      "Quasar <--> QUASAR III\n",
      "Dum Dum Dugan <--> DUGAN, DUM DUM\n",
      "Crystal <--> CRYSTAL [INHUMAN]\n",
      "Thor <--> THOR\n",
      "Patsy Walker <--> AIR-WALKER\n",
      "Beast <--> BEAST\n",
      "Yondu <--> YONDU\n",
      "Sentry <--> SENTRY II\n",
      "Rage <--> RAGE\n",
      "Invisible Woman <--> INVISIBLE WOMAN\n",
      "Sersi <--> SERSI\n",
      "Havok <--> HAVOK\n",
      "Hyperion <--> HYPERION\n",
      "Black Knight <--> BLACK KING\n",
      "Henry Pym <--> DR. HENRY J.\n",
      "Jocasta <--> JOCASTA\n",
      "Jessica Jones <--> CARRADINE, JESSICA J\n",
      "Wonder Man <--> POWER MAN\n",
      "Iron Man <--> IRON MAN\n",
      "Falcon <--> FALCON\n",
      "Moon Knight <--> MOON KNIGHT\n",
      "Ant-Man <--> ANT-MAN\n",
      "Hulk <--> HULK\n",
      "Wolverine <--> WOLVERINE\n",
      "Mantis <--> MANTA\n",
      "Mister Fantastic <--> MR. FANTASTIC\n",
      "Captain America <--> CAPTAIN AMERICA\n",
      "Avengers <--> BLACK AVENGER\n",
      "Doctor Octopus <--> DR. OCTOPUS\n",
      "Deathcry <--> DEATH\n",
      "Daisy Johnson <--> JOHNSON\n",
      "Firebird <--> FIREBIRD\n",
      "Scarlet Witch <--> SCARLET WITCH\n",
      "Wasp <--> WASP\n",
      "Henry Peter Gyrich <--> GYRICH, HENRY PETER\n",
      "Silverclaw <--> SILVER SABLE\n",
      "Squirrel-Girl <--> SQUIRREL GIRL\n",
      "Thunderbolt Ross <--> THUNDERBALL\n",
      "Century <--> CENTURY\n",
      "Starfox <--> STARFOX\n",
      "Namor <--> NAMORITA\n",
      "Hercules <--> HERCULES [GREEK GOD]\n",
      "She-Hulk <--> SHE-HULK\n",
      "Maria Hill <--> ARIA\n",
      "Thing <--> THING\n",
      "Stingray <--> STINGRAY\n",
      "Firestar <--> FIRESTAR\n",
      "Iron Fist <--> IRON FIST\n",
      "Ant-Man <--> ANT-MAN II\n",
      "Ms. Marvel <--> BLACK MARVEL\n",
      "Doctor Doom <--> DR. DOOM\n",
      "Quicksilver <--> QUICKSILVER\n",
      "Black Widow <--> BLACK WIDOW\n",
      "Black Panther <--> BLACK AVENGER\n",
      "Spider-Woman <--> SPIDER-WOMAN II\n",
      "Doctor Druid <--> DR. DRUID\n",
      "Captain Marvel <--> CAPTAIN AMERICA\n"
     ]
    }
   ],
   "source": [
    "for q, t in subs[0][0]:\n",
    "    print(\n",
    "        query_nodes_df[query_nodes_df['id'] == q]['label'].iloc[0] \n",
    "        + ' <--> ' \n",
    "        + target_nodes_df[target_nodes_df['id'] == t]['label'].iloc[0]\n",
    "    )"
   ]
  },
  {
   "cell_type": "code",
   "execution_count": 14,
   "metadata": {},
   "outputs": [
    {
     "data": {
      "text/plain": [
       "([(13687753, 2016793422),\n",
       "  (31800350, 2002168198),\n",
       "  (116014036, 1996138339),\n",
       "  (123619017, 320991093),\n",
       "  (179573118, 615102749),\n",
       "  (198532729, 336113625),\n",
       "  (212174472, 141638906),\n",
       "  (228147670, 1903065584),\n",
       "  (265801054, 624766822),\n",
       "  (347239452, 652515321),\n",
       "  (400691028, 2035018797),\n",
       "  (424290888, 1146298345),\n",
       "  (449169597, 180860012),\n",
       "  (458993037, 463824998),\n",
       "  (488700592, 1459285146),\n",
       "  (550944428, 1588876424),\n",
       "  (584889829, 1160914874),\n",
       "  (588986636, 904411101),\n",
       "  (635288420, 776939467),\n",
       "  (639193158, 1319751425),\n",
       "  (642811164, 1526375289),\n",
       "  (644586985, 778388069),\n",
       "  (667559714, 2069318077),\n",
       "  (675535195, 1436733706),\n",
       "  (676050460, 1477741226),\n",
       "  (772132728, 594510141),\n",
       "  (840231191, 293250651),\n",
       "  (885307921, 68701636),\n",
       "  (944738824, 155768795),\n",
       "  (952046635, 872254168),\n",
       "  (953428235, 141638906),\n",
       "  (994295707, 794382890),\n",
       "  (1000515925, 1297185367),\n",
       "  (1037598476, 1468826330),\n",
       "  (1072269411, 1804771011),\n",
       "  (1142904891, 127315582),\n",
       "  (1219876675, 819774225),\n",
       "  (1226616299, 1834769782),\n",
       "  (1234048883, 1875547653),\n",
       "  (1241907327, 704038754),\n",
       "  (1301886655, 625294570),\n",
       "  (1336420023, 723555369),\n",
       "  (1336590656, 1563843232),\n",
       "  (1336987724, 2057116838),\n",
       "  (1351237099, 1641614041),\n",
       "  (1360046232, 216406255),\n",
       "  (1387978411, 1733952636),\n",
       "  (1423529071, 1461180704),\n",
       "  (1431328142, 16632760),\n",
       "  (1466673456, 478469205),\n",
       "  (1529465507, 100033909),\n",
       "  (1563584263, 2133563318),\n",
       "  (1600019589, 788693556),\n",
       "  (1601685459, 1094924714),\n",
       "  (1609064934, 2068581089),\n",
       "  (1621746342, 1396069209),\n",
       "  (1635260940, 548214555),\n",
       "  (1652523522, 1791568581),\n",
       "  (1655936637, 813728837),\n",
       "  (1665593409, 420977109),\n",
       "  (1727103651, 286861864),\n",
       "  (1751328571, 1549089667),\n",
       "  (1785447009, 452187126),\n",
       "  (1794262298, 1992300814),\n",
       "  (1814757473, 1996138339),\n",
       "  (1823785776, 704038754),\n",
       "  (1942654608, 1272037410),\n",
       "  (1956475354, 2021239791),\n",
       "  (2031924075, 1875547653)],\n",
       " [(13687753, 2016793422),\n",
       "  (31800350, 2002168198),\n",
       "  (116014036, 1996138339),\n",
       "  (123619017, 320991093),\n",
       "  (179573118, 615102749),\n",
       "  (198532729, 336113625),\n",
       "  (212174472, 141638906),\n",
       "  (228147670, 1903065584),\n",
       "  (265801054, 624766822),\n",
       "  (347239452, 652515321),\n",
       "  (400691028, 2035018797),\n",
       "  (424290888, 1146298345),\n",
       "  (449169597, 180860012),\n",
       "  (458993037, 463824998),\n",
       "  (488700592, 1459285146),\n",
       "  (550944428, 1588876424),\n",
       "  (584889829, 1160914874),\n",
       "  (588986636, 904411101),\n",
       "  (635288420, 776939467),\n",
       "  (639193158, 1319751425),\n",
       "  (642811164, 1526375289),\n",
       "  (644586985, 778388069),\n",
       "  (667559714, 2069318077),\n",
       "  (675535195, 1436733706),\n",
       "  (676050460, 1477741226),\n",
       "  (772132728, 594510141),\n",
       "  (840231191, 293250651),\n",
       "  (885307921, 68701636),\n",
       "  (944738824, 155768795),\n",
       "  (952046635, 872254168),\n",
       "  (953428235, 141638906),\n",
       "  (994295707, 794382890),\n",
       "  (1000515925, 1297185367),\n",
       "  (1037598476, 1468826330),\n",
       "  (1072269411, 1804771011),\n",
       "  (1142904891, 127315582),\n",
       "  (1219876675, 819774225),\n",
       "  (1226616299, 1834769782),\n",
       "  (1234048883, 1875547653),\n",
       "  (1241907327, 704038754),\n",
       "  (1301886655, 625294570),\n",
       "  (1336420023, 723555369),\n",
       "  (1336590656, 1563843232),\n",
       "  (1336987724, 2057116838),\n",
       "  (1351237099, 1641614041),\n",
       "  (1360046232, 216406255),\n",
       "  (1387978411, 1733952636),\n",
       "  (1423529071, 1461180704),\n",
       "  (1431328142, 16632760),\n",
       "  (1466673456, 478469205),\n",
       "  (1529465507, 100033909),\n",
       "  (1563584263, 2133563318),\n",
       "  (1600019589, 788693556),\n",
       "  (1601685459, 1094924714),\n",
       "  (1609064934, 2068581089),\n",
       "  (1621746342, 1396069209),\n",
       "  (1635260940, 548214555),\n",
       "  (1652523522, 1791568581),\n",
       "  (1655936637, 813728837),\n",
       "  (1665593409, 420977109),\n",
       "  (1727103651, 286861864),\n",
       "  (1751328571, 1549089667),\n",
       "  (1785447009, 452187126),\n",
       "  (1794262298, 1992300814),\n",
       "  (1814757473, 1549089667),\n",
       "  (1823785776, 1418865377),\n",
       "  (1942654608, 1272037410),\n",
       "  (1956475354, 2021239791),\n",
       "  (2031924075, 1875547653)],\n",
       " [(13687753, 2016793422),\n",
       "  (31800350, 2002168198),\n",
       "  (116014036, 1996138339),\n",
       "  (123619017, 320991093),\n",
       "  (179573118, 615102749),\n",
       "  (198532729, 336113625),\n",
       "  (212174472, 141638906),\n",
       "  (228147670, 1903065584),\n",
       "  (265801054, 624766822),\n",
       "  (347239452, 652515321),\n",
       "  (400691028, 2035018797),\n",
       "  (424290888, 1146298345),\n",
       "  (449169597, 180860012),\n",
       "  (458993037, 463824998),\n",
       "  (488700592, 1459285146),\n",
       "  (550944428, 1588876424),\n",
       "  (584889829, 1160914874),\n",
       "  (588986636, 904411101),\n",
       "  (635288420, 684744756),\n",
       "  (639193158, 1144620688),\n",
       "  (642811164, 1526375289),\n",
       "  (644586985, 778388069),\n",
       "  (667559714, 2069318077),\n",
       "  (675535195, 1436733706),\n",
       "  (676050460, 1477741226),\n",
       "  (772132728, 594510141),\n",
       "  (840231191, 293250651),\n",
       "  (885307921, 68701636),\n",
       "  (944738824, 155768795),\n",
       "  (952046635, 1605271291),\n",
       "  (953428235, 714683741),\n",
       "  (994295707, 794382890),\n",
       "  (1000515925, 1297185367),\n",
       "  (1037598476, 870684533),\n",
       "  (1072269411, 1804771011),\n",
       "  (1142904891, 127315582),\n",
       "  (1219876675, 819774225),\n",
       "  (1226616299, 1834769782),\n",
       "  (1234048883, 1875547653),\n",
       "  (1241907327, 704038754),\n",
       "  (1301886655, 625294570),\n",
       "  (1336420023, 723555369),\n",
       "  (1336590656, 1563843232),\n",
       "  (1336987724, 2057116838),\n",
       "  (1351237099, 1641614041),\n",
       "  (1360046232, 216406255),\n",
       "  (1387978411, 1733952636),\n",
       "  (1423529071, 1453068772),\n",
       "  (1431328142, 391728494),\n",
       "  (1466673456, 83020131),\n",
       "  (1529465507, 100033909),\n",
       "  (1563584263, 2133563318),\n",
       "  (1600019589, 788693556),\n",
       "  (1601685459, 1094924714),\n",
       "  (1609064934, 1804771011),\n",
       "  (1621746342, 1396069209),\n",
       "  (1635260940, 548214555),\n",
       "  (1652523522, 1791568581),\n",
       "  (1655936637, 813728837),\n",
       "  (1665593409, 420977109),\n",
       "  (1727103651, 1468826330),\n",
       "  (1751328571, 1549089667),\n",
       "  (1785447009, 452187126),\n",
       "  (1794262298, 1992300814),\n",
       "  (1814757473, 1549089667),\n",
       "  (1823785776, 704038754),\n",
       "  (1942654608, 1272037410),\n",
       "  (1956475354, 2021239791),\n",
       "  (2031924075, 1875547653)])"
      ]
     },
     "execution_count": 14,
     "metadata": {},
     "output_type": "execute_result"
    }
   ],
   "source": [
    "subs[0]"
   ]
  },
  {
   "cell_type": "code",
   "execution_count": null,
   "metadata": {},
   "outputs": [],
   "source": [
    "subs[0][1]"
   ]
  },
  {
   "cell_type": "code",
   "execution_count": null,
   "metadata": {},
   "outputs": [],
   "source": [
    "ids = pd.read_sql(\"\"\"SELECT match.end FROM match\"\"\", con=connection)['end']\n",
    "target_nodes_df.set_index('id').loc[ids]['label'].unique()"
   ]
  },
  {
   "cell_type": "code",
   "execution_count": null,
   "metadata": {},
   "outputs": [],
   "source": [
    "ids = pd.read_sql(\"\"\"SELECT match.start FROM match\"\"\", con=connection)['start']\n",
    "query_nodes_df.set_index('id').loc[ids]['label'].unique()"
   ]
  },
  {
   "cell_type": "code",
   "execution_count": null,
   "metadata": {},
   "outputs": [],
   "source": [
    "target_nodes_df.iloc[[490, 962, 2870, 3734, 4035, 5822, 6214, 11576, 15693]]"
   ]
  },
  {
   "cell_type": "code",
   "execution_count": null,
   "metadata": {},
   "outputs": [],
   "source": [
    "import pickle\n",
    "with open('../../records.pk', 'wb') as fp:\n",
    "    pickle.dump(batched_records, fp)"
   ]
  },
  {
   "cell_type": "code",
   "execution_count": null,
   "metadata": {},
   "outputs": [],
   "source": []
  },
  {
   "cell_type": "code",
   "execution_count": null,
   "metadata": {},
   "outputs": [],
   "source": [
    "query_nodes_df[query_nodes_df['id'] == 952046635]"
   ]
  },
  {
   "cell_type": "code",
   "execution_count": null,
   "metadata": {},
   "outputs": [],
   "source": [
    "target_nodes_df[target_nodes_df['id'] == 1432924047]"
   ]
  },
  {
   "cell_type": "code",
   "execution_count": null,
   "metadata": {},
   "outputs": [],
   "source": [
    "sorted(query_nodes_df['id'])"
   ]
  },
  {
   "cell_type": "code",
   "execution_count": null,
   "metadata": {},
   "outputs": [],
   "source": [
    "pd.read_sql(\"\"\"SELECT * FROM query_node WHERE id = 1421458225\"\"\", con=connection)"
   ]
  },
  {
   "cell_type": "code",
   "execution_count": null,
   "metadata": {},
   "outputs": [],
   "source": [
    "query_nodes_df[query_nodes_df['label'] == 'Avengers']"
   ]
  },
  {
   "cell_type": "code",
   "execution_count": null,
   "metadata": {},
   "outputs": [],
   "source": [
    "pd.read_sql(\"\"\"SELECT * FROM query_node WHERE id = 1432924047\"\"\", con=connection)"
   ]
  },
  {
   "cell_type": "code",
   "execution_count": null,
   "metadata": {},
   "outputs": [],
   "source": [
    "pd.read_sql(\"\"\"SELECT * FROM target_node WHERE id = 1432924047\"\"\", con=connection)"
   ]
  },
  {
   "cell_type": "code",
   "execution_count": null,
   "metadata": {},
   "outputs": [],
   "source": [
    "pd.read_sql(\"\"\"SELECT * FROM query_node LIMIT 10\"\"\", con=connection)"
   ]
  },
  {
   "cell_type": "code",
   "execution_count": null,
   "metadata": {},
   "outputs": [],
   "source": [
    "query_nodes_df[query_nodes_df['id'] == 952046635]"
   ]
  },
  {
   "cell_type": "code",
   "execution_count": null,
   "metadata": {},
   "outputs": [],
   "source": [
    "target_nodes_df[target_nodes_df['id'] == 1605271291]"
   ]
  },
  {
   "cell_type": "code",
   "execution_count": null,
   "metadata": {},
   "outputs": [],
   "source": []
  }
 ],
 "metadata": {
  "kernelspec": {
   "display_name": "Python 3",
   "language": "python",
   "name": "python3"
  },
  "language_info": {
   "codemirror_mode": {
    "name": "ipython",
    "version": 3
   },
   "file_extension": ".py",
   "mimetype": "text/x-python",
   "name": "python",
   "nbconvert_exporter": "python",
   "pygments_lexer": "ipython3",
   "version": "3.6.5"
  }
 },
 "nbformat": 4,
 "nbformat_minor": 2
}
