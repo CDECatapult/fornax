{
 "cells": [
  {
   "cell_type": "code",
   "execution_count": 1,
   "metadata": {},
   "outputs": [],
   "source": [
    "import pandas as pd\n",
    "import fornax\n",
    "from sqlalchemy import create_engine\n",
    "from sqlalchemy.orm.session import Session"
   ]
  },
  {
   "cell_type": "markdown",
   "metadata": {},
   "source": [
    "# Tutorial 3 - Executing a Query\n",
    "\n",
    "## Introduction\n",
    "\n",
    "In this tutorial we will\n",
    "* reproduce the results of tutorial 2\n",
    "* query the graph for:\n",
    "    - a node label containing hulk \n",
    "    - joining to a node label containing Lady \n",
    "    - joining to a node label containing storm \n",
    "    \n",
    "Critically there is no such subgraph in the dataset.\n",
    "However, fornax will correctly deduce that She-Hulk and the Invisible Woman are both members of the Lady Liberators and this is the best match because The Invisible Woman is also known as Sue Storm.\n",
    "\n",
    "## Database Initialisation\n",
    "\n",
    "Below is simply a repeat of the previous tutorial."
   ]
  },
  {
   "cell_type": "code",
   "execution_count": 2,
   "metadata": {},
   "outputs": [],
   "source": [
    "#populate the database as in tutorial 2\n",
    "\n",
    "engine = create_engine('sqlite://', echo=False)\n",
    "connection = engine.connect()\n",
    "fornax.model.Base.metadata.create_all(connection)\n",
    "\n",
    "nodes_df = pd.read_csv('./nodes.csv')\n",
    "# create a list of TargetNode objects\n",
    "nodes = [fornax.model.TargetNode(id=uid, type=type_) for uid, type_ in zip(nodes_df['uid'], nodes_df['type'])]\n",
    "\n",
    "session = Session(connection)\n",
    "session.add_all(nodes)\n",
    "session.commit()\n",
    "\n",
    "edges_df = pd.read_csv('./edges.csv')\n",
    "# create a list of TargetEdge objects\n",
    "edges = [fornax.model.TargetEdge(start=start, end=end) for start, end in zip(edges_df['start'], edges_df['end'])]\n",
    "\n",
    "\n",
    "session.add_all(edges)\n",
    "session.commit()\n",
    "session.close()"
   ]
  },
  {
   "cell_type": "markdown",
   "metadata": {},
   "source": [
    "## Preliminaries\n",
    "\n",
    "Since the database only contains ids of nodes, lets build a look up table to convert node ids into labels."
   ]
  },
  {
   "cell_type": "code",
   "execution_count": 3,
   "metadata": {},
   "outputs": [
    {
     "data": {
      "text/html": [
       "<div>\n",
       "<style scoped>\n",
       "    .dataframe tbody tr th:only-of-type {\n",
       "        vertical-align: middle;\n",
       "    }\n",
       "\n",
       "    .dataframe tbody tr th {\n",
       "        vertical-align: top;\n",
       "    }\n",
       "\n",
       "    .dataframe thead th {\n",
       "        text-align: right;\n",
       "    }\n",
       "</style>\n",
       "<table border=\"1\" class=\"dataframe\">\n",
       "  <thead>\n",
       "    <tr style=\"text-align: right;\">\n",
       "      <th></th>\n",
       "      <th>label</th>\n",
       "      <th>type</th>\n",
       "      <th>uid</th>\n",
       "    </tr>\n",
       "  </thead>\n",
       "  <tbody>\n",
       "    <tr>\n",
       "      <th>0</th>\n",
       "      <td>Selene</td>\n",
       "      <td>0</td>\n",
       "      <td>2861295873</td>\n",
       "    </tr>\n",
       "    <tr>\n",
       "      <th>1</th>\n",
       "      <td>Doctor Doom</td>\n",
       "      <td>0</td>\n",
       "      <td>2169370700</td>\n",
       "    </tr>\n",
       "    <tr>\n",
       "      <th>2</th>\n",
       "      <td>Viper</td>\n",
       "      <td>0</td>\n",
       "      <td>421230664</td>\n",
       "    </tr>\n",
       "    <tr>\n",
       "      <th>3</th>\n",
       "      <td>Rhino</td>\n",
       "      <td>0</td>\n",
       "      <td>1747963121</td>\n",
       "    </tr>\n",
       "    <tr>\n",
       "      <th>4</th>\n",
       "      <td>Sin</td>\n",
       "      <td>0</td>\n",
       "      <td>1390977948</td>\n",
       "    </tr>\n",
       "  </tbody>\n",
       "</table>\n",
       "</div>"
      ],
      "text/plain": [
       "         label  type         uid\n",
       "0       Selene     0  2861295873\n",
       "1  Doctor Doom     0  2169370700\n",
       "2        Viper     0   421230664\n",
       "3        Rhino     0  1747963121\n",
       "4          Sin     0  1390977948"
      ]
     },
     "execution_count": 3,
     "metadata": {},
     "output_type": "execute_result"
    }
   ],
   "source": [
    "nodes_df = pd.read_csv('./nodes.csv')\n",
    "nodes_df.head()"
   ]
  },
  {
   "cell_type": "code",
   "execution_count": 4,
   "metadata": {},
   "outputs": [
    {
     "data": {
      "text/plain": [
       "'Doctor Doom'"
      ]
     },
     "execution_count": 4,
     "metadata": {},
     "output_type": "execute_result"
    }
   ],
   "source": [
    "look_up = {uid: label for uid, label in zip(nodes_df['uid'], nodes_df['label'])}\n",
    "look_up[2169370700]"
   ]
  },
  {
   "cell_type": "markdown",
   "metadata": {},
   "source": [
    "## Building a Query\n",
    "\n",
    "The first step is to create a query graph.\n",
    "\n",
    "We need three nodes and two edges. \n",
    "Add them to the database just like target nodes."
   ]
  },
  {
   "cell_type": "code",
   "execution_count": 5,
   "metadata": {},
   "outputs": [],
   "source": [
    "nodes = [\n",
    "    fornax.model.QueryNode(id=0, type=0), # hulk\n",
    "    fornax.model.QueryNode(id=1, type=1), # ladies\n",
    "    fornax.model.QueryNode(id=2, type=0)  # storm\n",
    "]\n",
    "session = Session(connection)\n",
    "session.add_all(nodes)\n",
    "session.commit()"
   ]
  },
  {
   "cell_type": "code",
   "execution_count": 6,
   "metadata": {},
   "outputs": [],
   "source": [
    "edges = [\n",
    "    fornax.model.QueryEdge(start=0, end=1), fornax.model.QueryEdge(start=1, end=0),\n",
    "    fornax.model.QueryEdge(start=1, end=2), fornax.model.QueryEdge(start=2, end=1)\n",
    "]\n",
    "session.add_all(edges)\n",
    "session.commit()"
   ]
  },
  {
   "cell_type": "markdown",
   "metadata": {},
   "source": [
    "Now we add matching edgse between:\n",
    "* query node 0 and all target nodes containing the substring hulk\n",
    "* query node 1 and all target nodes containing the substring lady\n",
    "* query node 2 and all target nodes containing the substring storm\n",
    "\n",
    "The weight of each match is 1. Had we used a non binary matching function the weight can be in the range $0 < weight <= 1$."
   ]
  },
  {
   "cell_type": "code",
   "execution_count": 7,
   "metadata": {},
   "outputs": [],
   "source": [
    "matches = []\n",
    "for uid in nodes_df[nodes_df['label'].str.contains(\"(?i)hulk\")]['uid']:\n",
    "    matches.append(fornax.model.Match(start=0, end=uid, weight=1))\n",
    "for uid in nodes_df[nodes_df['label'].str.contains('(?i)lady')]['uid']:\n",
    "    matches.append(fornax.model.Match(start=1, end=uid, weight=1))\n",
    "for uid in nodes_df[nodes_df['label'].str.contains('(?i)storm')]['uid']:\n",
    "    matches.append(fornax.model.Match(start=2, end=uid, weight=1))\n",
    "session.add_all(matches)\n",
    "session.commit()"
   ]
  },
  {
   "cell_type": "markdown",
   "metadata": {},
   "source": [
    "The following three lines execute the query"
   ]
  },
  {
   "cell_type": "code",
   "execution_count": 8,
   "metadata": {},
   "outputs": [
    {
     "name": "stderr",
     "output_type": "stream",
     "text": [
      "/Users/dstaff/anaconda3/envs/fornax/lib/python3.6/site-packages/numpy/core/records.py:513: FutureWarning: Numpy has detected that you may be viewing or writing to an array returned by selecting multiple fields in a structured array. \n",
      "\n",
      "This code may break in numpy 1.15 because this will return a view instead of a copy -- see release notes for details.\n",
      "  return obj.view(dtype=(self.dtype.type, obj.dtype))\n"
     ]
    }
   ],
   "source": [
    "# create a sql query using a hopping distance of 2\n",
    "query = fornax.select.join(2)\n",
    "# get a table of results from the databse\n",
    "records = query.with_session(session).all()\n",
    "# run the optimiser to find the best results\n",
    "solutions, scores = fornax.opt.solve(records)"
   ]
  },
  {
   "cell_type": "code",
   "execution_count": 17,
   "metadata": {},
   "outputs": [
    {
     "data": {
      "text/plain": [
       "[[(0, 'She-Hulk'), (1, 'Lady Liberators'), (2, ' Susan Storm-Richards')],\n",
       " [(0, 'She-Hulk'), (1, 'Lady Liberators'), (2, 'Sue Storm')],\n",
       " [(0, 'She-Hulk'), (1, 'Lady Liberators'), (2, ' Susan Storm')]]"
      ]
     },
     "execution_count": 17,
     "metadata": {},
     "output_type": "execute_result"
    }
   ],
   "source": [
    "[[(query_id, look_up[target_id]) for (query_id, target_id) in solution] for solution in solutions]"
   ]
  },
  {
   "cell_type": "code",
   "execution_count": 10,
   "metadata": {},
   "outputs": [
    {
     "data": {
      "text/plain": [
       "(0.42505555555555546, 0.42505555555555546, 0.42505555555555546)"
      ]
     },
     "execution_count": 10,
     "metadata": {},
     "output_type": "execute_result"
    }
   ],
   "source": [
    "scores"
   ]
  },
  {
   "cell_type": "markdown",
   "metadata": {},
   "source": [
    "The top three results are all matches to different aliases of the Invisible Woman."
   ]
  },
  {
   "cell_type": "code",
   "execution_count": null,
   "metadata": {},
   "outputs": [],
   "source": [
    "connection.close()"
   ]
  }
 ],
 "metadata": {
  "kernelspec": {
   "display_name": "Python 3",
   "language": "python",
   "name": "python3"
  },
  "language_info": {
   "codemirror_mode": {
    "name": "ipython",
    "version": 3
   },
   "file_extension": ".py",
   "mimetype": "text/x-python",
   "name": "python",
   "nbconvert_exporter": "python",
   "pygments_lexer": "ipython3",
   "version": "3.6.5"
  }
 },
 "nbformat": 4,
 "nbformat_minor": 2
}
