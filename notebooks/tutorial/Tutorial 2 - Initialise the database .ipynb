{
 "cells": [
  {
   "cell_type": "code",
   "execution_count": 1,
   "metadata": {},
   "outputs": [],
   "source": [
    "import pandas as pd\n",
    "import fornax\n",
    "from sqlalchemy import create_engine\n",
    "from sqlalchemy.orm.session import Session"
   ]
  },
  {
   "cell_type": "markdown",
   "metadata": {},
   "source": [
    "# Tutorial 1 - Populating the Database\n",
    "\n",
    "In order to use fornax we need to insert the data into a relational database with the correct schema.\n",
    "\n",
    "It should be noted that all of these steps can be reproduced without fornax by interacting with the database directly.\n",
    "The equivalent SQL commands are shown in the logging\n",
    "\n",
    "## Initialise the database\n",
    "Fortunatly the fornax library can be used to create initialise database using a sqlalchemy connection."
   ]
  },
  {
   "cell_type": "code",
   "execution_count": 2,
   "metadata": {
    "scrolled": false
   },
   "outputs": [
    {
     "name": "stdout",
     "output_type": "stream",
     "text": [
      "2018-09-14 11:21:13,079 INFO sqlalchemy.engine.base.Engine SELECT CAST('test plain returns' AS VARCHAR(60)) AS anon_1\n",
      "2018-09-14 11:21:13,079 INFO sqlalchemy.engine.base.Engine SELECT CAST('test plain returns' AS VARCHAR(60)) AS anon_1\n",
      "2018-09-14 11:21:13,080 INFO sqlalchemy.engine.base.Engine ()\n",
      "2018-09-14 11:21:13,080 INFO sqlalchemy.engine.base.Engine ()\n",
      "2018-09-14 11:21:13,081 INFO sqlalchemy.engine.base.Engine SELECT CAST('test unicode returns' AS VARCHAR(60)) AS anon_1\n",
      "2018-09-14 11:21:13,081 INFO sqlalchemy.engine.base.Engine SELECT CAST('test unicode returns' AS VARCHAR(60)) AS anon_1\n",
      "2018-09-14 11:21:13,082 INFO sqlalchemy.engine.base.Engine ()\n",
      "2018-09-14 11:21:13,082 INFO sqlalchemy.engine.base.Engine ()\n",
      "2018-09-14 11:21:13,083 INFO sqlalchemy.engine.base.Engine PRAGMA table_info(\"match\")\n",
      "2018-09-14 11:21:13,083 INFO sqlalchemy.engine.base.Engine PRAGMA table_info(\"match\")\n",
      "2018-09-14 11:21:13,084 INFO sqlalchemy.engine.base.Engine ()\n",
      "2018-09-14 11:21:13,084 INFO sqlalchemy.engine.base.Engine ()\n",
      "2018-09-14 11:21:13,085 INFO sqlalchemy.engine.base.Engine PRAGMA table_info(\"query_node\")\n",
      "2018-09-14 11:21:13,085 INFO sqlalchemy.engine.base.Engine PRAGMA table_info(\"query_node\")\n",
      "2018-09-14 11:21:13,086 INFO sqlalchemy.engine.base.Engine ()\n",
      "2018-09-14 11:21:13,086 INFO sqlalchemy.engine.base.Engine ()\n",
      "2018-09-14 11:21:13,087 INFO sqlalchemy.engine.base.Engine PRAGMA table_info(\"query_edge\")\n",
      "2018-09-14 11:21:13,087 INFO sqlalchemy.engine.base.Engine PRAGMA table_info(\"query_edge\")\n",
      "2018-09-14 11:21:13,088 INFO sqlalchemy.engine.base.Engine ()\n",
      "2018-09-14 11:21:13,088 INFO sqlalchemy.engine.base.Engine ()\n",
      "2018-09-14 11:21:13,088 INFO sqlalchemy.engine.base.Engine PRAGMA table_info(\"target_node\")\n",
      "2018-09-14 11:21:13,088 INFO sqlalchemy.engine.base.Engine PRAGMA table_info(\"target_node\")\n",
      "2018-09-14 11:21:13,089 INFO sqlalchemy.engine.base.Engine ()\n",
      "2018-09-14 11:21:13,089 INFO sqlalchemy.engine.base.Engine ()\n",
      "2018-09-14 11:21:13,091 INFO sqlalchemy.engine.base.Engine PRAGMA table_info(\"target_edge\")\n",
      "2018-09-14 11:21:13,091 INFO sqlalchemy.engine.base.Engine PRAGMA table_info(\"target_edge\")\n",
      "2018-09-14 11:21:13,091 INFO sqlalchemy.engine.base.Engine ()\n",
      "2018-09-14 11:21:13,091 INFO sqlalchemy.engine.base.Engine ()\n",
      "2018-09-14 11:21:13,093 INFO sqlalchemy.engine.base.Engine \n",
      "CREATE TABLE query_node (\n",
      "\tid INTEGER NOT NULL CONSTRAINT q_min_id_check CHECK (id>=0), \n",
      "\ttype INTEGER, \n",
      "\tPRIMARY KEY (id)\n",
      ")\n",
      "\n",
      "\n",
      "2018-09-14 11:21:13,093 INFO sqlalchemy.engine.base.Engine \n",
      "CREATE TABLE query_node (\n",
      "\tid INTEGER NOT NULL CONSTRAINT q_min_id_check CHECK (id>=0), \n",
      "\ttype INTEGER, \n",
      "\tPRIMARY KEY (id)\n",
      ")\n",
      "\n",
      "\n",
      "2018-09-14 11:21:13,093 INFO sqlalchemy.engine.base.Engine ()\n",
      "2018-09-14 11:21:13,093 INFO sqlalchemy.engine.base.Engine ()\n",
      "2018-09-14 11:21:13,094 INFO sqlalchemy.engine.base.Engine COMMIT\n",
      "2018-09-14 11:21:13,094 INFO sqlalchemy.engine.base.Engine COMMIT\n",
      "2018-09-14 11:21:13,095 INFO sqlalchemy.engine.base.Engine \n",
      "CREATE TABLE target_node (\n",
      "\tid INTEGER NOT NULL CONSTRAINT t_min_id_check CHECK (id>=0), \n",
      "\ttype INTEGER, \n",
      "\tPRIMARY KEY (id)\n",
      ")\n",
      "\n",
      "\n",
      "2018-09-14 11:21:13,095 INFO sqlalchemy.engine.base.Engine \n",
      "CREATE TABLE target_node (\n",
      "\tid INTEGER NOT NULL CONSTRAINT t_min_id_check CHECK (id>=0), \n",
      "\ttype INTEGER, \n",
      "\tPRIMARY KEY (id)\n",
      ")\n",
      "\n",
      "\n",
      "2018-09-14 11:21:13,096 INFO sqlalchemy.engine.base.Engine ()\n",
      "2018-09-14 11:21:13,096 INFO sqlalchemy.engine.base.Engine ()\n",
      "2018-09-14 11:21:13,097 INFO sqlalchemy.engine.base.Engine COMMIT\n",
      "2018-09-14 11:21:13,097 INFO sqlalchemy.engine.base.Engine COMMIT\n",
      "2018-09-14 11:21:13,098 INFO sqlalchemy.engine.base.Engine \n",
      "CREATE TABLE \"match\" (\n",
      "\tstart INTEGER NOT NULL, \n",
      "\t\"end\" INTEGER NOT NULL, \n",
      "\tweight FLOAT NOT NULL CONSTRAINT max_check CHECK (weight<=1) CONSTRAINT min_check CHECK (weight>0), \n",
      "\tPRIMARY KEY (start, \"end\"), \n",
      "\tFOREIGN KEY(start) REFERENCES query_node (id), \n",
      "\tFOREIGN KEY(\"end\") REFERENCES target_node (id)\n",
      ")\n",
      "\n",
      "\n",
      "2018-09-14 11:21:13,098 INFO sqlalchemy.engine.base.Engine \n",
      "CREATE TABLE \"match\" (\n",
      "\tstart INTEGER NOT NULL, \n",
      "\t\"end\" INTEGER NOT NULL, \n",
      "\tweight FLOAT NOT NULL CONSTRAINT max_check CHECK (weight<=1) CONSTRAINT min_check CHECK (weight>0), \n",
      "\tPRIMARY KEY (start, \"end\"), \n",
      "\tFOREIGN KEY(start) REFERENCES query_node (id), \n",
      "\tFOREIGN KEY(\"end\") REFERENCES target_node (id)\n",
      ")\n",
      "\n",
      "\n",
      "2018-09-14 11:21:13,099 INFO sqlalchemy.engine.base.Engine ()\n",
      "2018-09-14 11:21:13,099 INFO sqlalchemy.engine.base.Engine ()\n",
      "2018-09-14 11:21:13,100 INFO sqlalchemy.engine.base.Engine COMMIT\n",
      "2018-09-14 11:21:13,100 INFO sqlalchemy.engine.base.Engine COMMIT\n",
      "2018-09-14 11:21:13,101 INFO sqlalchemy.engine.base.Engine \n",
      "CREATE TABLE query_edge (\n",
      "\tstart INTEGER NOT NULL, \n",
      "\t\"end\" INTEGER NOT NULL, \n",
      "\tPRIMARY KEY (start, \"end\"), \n",
      "\tFOREIGN KEY(start) REFERENCES query_node (id), \n",
      "\tFOREIGN KEY(\"end\") REFERENCES query_node (id)\n",
      ")\n",
      "\n",
      "\n",
      "2018-09-14 11:21:13,101 INFO sqlalchemy.engine.base.Engine \n",
      "CREATE TABLE query_edge (\n",
      "\tstart INTEGER NOT NULL, \n",
      "\t\"end\" INTEGER NOT NULL, \n",
      "\tPRIMARY KEY (start, \"end\"), \n",
      "\tFOREIGN KEY(start) REFERENCES query_node (id), \n",
      "\tFOREIGN KEY(\"end\") REFERENCES query_node (id)\n",
      ")\n",
      "\n",
      "\n",
      "2018-09-14 11:21:13,102 INFO sqlalchemy.engine.base.Engine ()\n",
      "2018-09-14 11:21:13,102 INFO sqlalchemy.engine.base.Engine ()\n",
      "2018-09-14 11:21:13,103 INFO sqlalchemy.engine.base.Engine COMMIT\n",
      "2018-09-14 11:21:13,103 INFO sqlalchemy.engine.base.Engine COMMIT\n",
      "2018-09-14 11:21:13,104 INFO sqlalchemy.engine.base.Engine \n",
      "CREATE TABLE target_edge (\n",
      "\tstart INTEGER NOT NULL, \n",
      "\t\"end\" INTEGER NOT NULL, \n",
      "\tPRIMARY KEY (start, \"end\"), \n",
      "\tFOREIGN KEY(start) REFERENCES target_node (id), \n",
      "\tFOREIGN KEY(\"end\") REFERENCES target_node (id)\n",
      ")\n",
      "\n",
      "\n",
      "2018-09-14 11:21:13,104 INFO sqlalchemy.engine.base.Engine \n",
      "CREATE TABLE target_edge (\n",
      "\tstart INTEGER NOT NULL, \n",
      "\t\"end\" INTEGER NOT NULL, \n",
      "\tPRIMARY KEY (start, \"end\"), \n",
      "\tFOREIGN KEY(start) REFERENCES target_node (id), \n",
      "\tFOREIGN KEY(\"end\") REFERENCES target_node (id)\n",
      ")\n",
      "\n",
      "\n",
      "2018-09-14 11:21:13,105 INFO sqlalchemy.engine.base.Engine ()\n",
      "2018-09-14 11:21:13,105 INFO sqlalchemy.engine.base.Engine ()\n",
      "2018-09-14 11:21:13,106 INFO sqlalchemy.engine.base.Engine COMMIT\n",
      "2018-09-14 11:21:13,106 INFO sqlalchemy.engine.base.Engine COMMIT\n"
     ]
    }
   ],
   "source": [
    "engine = create_engine(\n",
    "    'sqlite://', # create an in memory sqlite database\n",
    "    echo=True    # turn logging on \n",
    ")\n",
    "connection = engine.connect()\n",
    "\n",
    "# create the database schema\n",
    "fornax.model.Base.metadata.create_all(connection)"
   ]
  },
  {
   "cell_type": "markdown",
   "metadata": {},
   "source": [
    "## Inserting the nodes\n",
    "\n",
    "To add the nodes create a `fornax.model.TargetNode` object for each node."
   ]
  },
  {
   "cell_type": "code",
   "execution_count": 8,
   "metadata": {},
   "outputs": [],
   "source": [
    "nodes_df = pd.read_csv('./nodes.csv')\n",
    "# create a list of TargetNode objects\n",
    "nodes = [fornax.model.TargetNode(id=uid, type=type_) for uid, type_ in zip(nodes_df['uid'], nodes_df['type'])]"
   ]
  },
  {
   "cell_type": "code",
   "execution_count": 4,
   "metadata": {},
   "outputs": [
    {
     "name": "stdout",
     "output_type": "stream",
     "text": [
      "2018-09-14 11:21:13,206 INFO sqlalchemy.engine.base.Engine BEGIN (implicit)\n",
      "2018-09-14 11:21:13,206 INFO sqlalchemy.engine.base.Engine BEGIN (implicit)\n",
      "2018-09-14 11:21:13,223 INFO sqlalchemy.engine.base.Engine INSERT INTO target_node (id, type) VALUES (?, ?)\n",
      "2018-09-14 11:21:13,223 INFO sqlalchemy.engine.base.Engine INSERT INTO target_node (id, type) VALUES (?, ?)\n",
      "2018-09-14 11:21:13,224 INFO sqlalchemy.engine.base.Engine ((2861295873, 0), (2169370700, 0), (421230664, 0), (1747963121, 0), (1390977948, 0), (3458194944, 0), (1036549429, 0), (3036238920, 0)  ... displaying 10 of 1129 total bound parameter sets ...  (1567195514, 2), (580296626, 2))\n",
      "2018-09-14 11:21:13,224 INFO sqlalchemy.engine.base.Engine ((2861295873, 0), (2169370700, 0), (421230664, 0), (1747963121, 0), (1390977948, 0), (3458194944, 0), (1036549429, 0), (3036238920, 0)  ... displaying 10 of 1129 total bound parameter sets ...  (1567195514, 2), (580296626, 2))\n",
      "2018-09-14 11:21:13,244 INFO sqlalchemy.engine.base.Engine COMMIT\n",
      "2018-09-14 11:21:13,244 INFO sqlalchemy.engine.base.Engine COMMIT\n"
     ]
    }
   ],
   "source": [
    "session = Session(connection)\n",
    "session.add_all(nodes)\n",
    "session.commit()"
   ]
  },
  {
   "cell_type": "markdown",
   "metadata": {},
   "source": [
    "## Inserting the edges\n",
    "\n",
    "To add the edges create a fornax.model.TargetEdge object for each node."
   ]
  },
  {
   "cell_type": "code",
   "execution_count": 5,
   "metadata": {},
   "outputs": [],
   "source": [
    "edges_df = pd.read_csv('./edges.csv')\n",
    "# create a list of TargetEdge objects\n",
    "edges = [fornax.model.TargetEdge(start=start, end=end) for start, end in zip(edges_df['start'], edges_df['end'])]"
   ]
  },
  {
   "cell_type": "code",
   "execution_count": 6,
   "metadata": {},
   "outputs": [
    {
     "name": "stdout",
     "output_type": "stream",
     "text": [
      "2018-09-14 11:21:13,400 INFO sqlalchemy.engine.base.Engine BEGIN (implicit)\n",
      "2018-09-14 11:21:13,400 INFO sqlalchemy.engine.base.Engine BEGIN (implicit)\n",
      "2018-09-14 11:21:13,436 INFO sqlalchemy.engine.base.Engine INSERT INTO target_edge (start, \"end\") VALUES (?, ?)\n",
      "2018-09-14 11:21:13,436 INFO sqlalchemy.engine.base.Engine INSERT INTO target_edge (start, \"end\") VALUES (?, ?)\n",
      "2018-09-14 11:21:13,437 INFO sqlalchemy.engine.base.Engine ((2861295873, 694696789), (2169370700, 3821667966), (421230664, 989667430), (421230664, 1588981747), (1747963121, 511082496), (1390977948, 989667430), (3458194944, 2118744719), (1036549429, 1681727299)  ... displaying 10 of 2752 total bound parameter sets ...  (1567195514, 1581878622), (580296626, 3212541426))\n",
      "2018-09-14 11:21:13,437 INFO sqlalchemy.engine.base.Engine ((2861295873, 694696789), (2169370700, 3821667966), (421230664, 989667430), (421230664, 1588981747), (1747963121, 511082496), (1390977948, 989667430), (3458194944, 2118744719), (1036549429, 1681727299)  ... displaying 10 of 2752 total bound parameter sets ...  (1567195514, 1581878622), (580296626, 3212541426))\n",
      "2018-09-14 11:21:13,473 INFO sqlalchemy.engine.base.Engine COMMIT\n",
      "2018-09-14 11:21:13,473 INFO sqlalchemy.engine.base.Engine COMMIT\n"
     ]
    }
   ],
   "source": [
    "session = Session(connection)\n",
    "session.add_all(edges)\n",
    "session.commit()\n",
    "session.close()"
   ]
  },
  {
   "cell_type": "markdown",
   "metadata": {},
   "source": [
    "Next we add the target edges, the connections between target nodes"
   ]
  },
  {
   "cell_type": "code",
   "execution_count": 7,
   "metadata": {},
   "outputs": [],
   "source": [
    "connection.close()"
   ]
  }
 ],
 "metadata": {
  "kernelspec": {
   "display_name": "Python 3",
   "language": "python",
   "name": "python3"
  },
  "language_info": {
   "codemirror_mode": {
    "name": "ipython",
    "version": 3
   },
   "file_extension": ".py",
   "mimetype": "text/x-python",
   "name": "python",
   "nbconvert_exporter": "python",
   "pygments_lexer": "ipython3",
   "version": "3.6.5"
  }
 },
 "nbformat": 4,
 "nbformat_minor": 2
}
