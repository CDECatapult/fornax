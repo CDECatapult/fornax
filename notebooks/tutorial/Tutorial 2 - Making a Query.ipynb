{
 "cells": [
  {
   "cell_type": "code",
   "execution_count": 1,
   "metadata": {},
   "outputs": [],
   "source": [
    "import pandas as pd\n",
    "import json\n",
    "import fornax\n",
    "import matplotlib\n",
    "import networkx as nx\n",
    "\n",
    "%matplotlib inline"
   ]
  },
  {
   "cell_type": "markdown",
   "metadata": {},
   "source": [
    "# Performing a Fuzzy Graph Query using Fornax\n",
    "\n",
    "Im this tutorial we will perform a fuzzy search on the dataset curated during the first tutorial.\n",
    "\n",
    "You need to run tutorial 1 before doing this tutorial otherwise you will not be able to load any of the data produced.\n",
    "\n",
    "## Step 1: Load the data from the first tutorial"
   ]
  },
  {
   "cell_type": "code",
   "execution_count": 2,
   "metadata": {},
   "outputs": [],
   "source": [
    "nodes_df = pd.read_csv('./nodes.csv')\n",
    "edges_df = pd.read_csv('./edges.csv')"
   ]
  },
  {
   "cell_type": "code",
   "execution_count": 3,
   "metadata": {},
   "outputs": [
    {
     "data": {
      "text/html": [
       "<div>\n",
       "<style scoped>\n",
       "    .dataframe tbody tr th:only-of-type {\n",
       "        vertical-align: middle;\n",
       "    }\n",
       "\n",
       "    .dataframe tbody tr th {\n",
       "        vertical-align: top;\n",
       "    }\n",
       "\n",
       "    .dataframe thead th {\n",
       "        text-align: right;\n",
       "    }\n",
       "</style>\n",
       "<table border=\"1\" class=\"dataframe\">\n",
       "  <thead>\n",
       "    <tr style=\"text-align: right;\">\n",
       "      <th></th>\n",
       "      <th>label</th>\n",
       "      <th>type</th>\n",
       "      <th>uid</th>\n",
       "    </tr>\n",
       "  </thead>\n",
       "  <tbody>\n",
       "    <tr>\n",
       "      <th>0</th>\n",
       "      <td>Jubilee</td>\n",
       "      <td>0</td>\n",
       "      <td>1126900601</td>\n",
       "    </tr>\n",
       "    <tr>\n",
       "      <th>1</th>\n",
       "      <td>Silver Surfer</td>\n",
       "      <td>0</td>\n",
       "      <td>440245546</td>\n",
       "    </tr>\n",
       "    <tr>\n",
       "      <th>2</th>\n",
       "      <td>Beast</td>\n",
       "      <td>0</td>\n",
       "      <td>1370118169</td>\n",
       "    </tr>\n",
       "    <tr>\n",
       "      <th>3</th>\n",
       "      <td>Selene</td>\n",
       "      <td>0</td>\n",
       "      <td>87770955</td>\n",
       "    </tr>\n",
       "    <tr>\n",
       "      <th>4</th>\n",
       "      <td>Sabretooth</td>\n",
       "      <td>0</td>\n",
       "      <td>1299099267</td>\n",
       "    </tr>\n",
       "  </tbody>\n",
       "</table>\n",
       "</div>"
      ],
      "text/plain": [
       "           label  type         uid\n",
       "0        Jubilee     0  1126900601\n",
       "1  Silver Surfer     0   440245546\n",
       "2          Beast     0  1370118169\n",
       "3         Selene     0    87770955\n",
       "4     Sabretooth     0  1299099267"
      ]
     },
     "execution_count": 3,
     "metadata": {},
     "output_type": "execute_result"
    }
   ],
   "source": [
    "nodes_df.head()"
   ]
  },
  {
   "cell_type": "code",
   "execution_count": 4,
   "metadata": {},
   "outputs": [
    {
     "data": {
      "text/html": [
       "<div>\n",
       "<style scoped>\n",
       "    .dataframe tbody tr th:only-of-type {\n",
       "        vertical-align: middle;\n",
       "    }\n",
       "\n",
       "    .dataframe tbody tr th {\n",
       "        vertical-align: top;\n",
       "    }\n",
       "\n",
       "    .dataframe thead th {\n",
       "        text-align: right;\n",
       "    }\n",
       "</style>\n",
       "<table border=\"1\" class=\"dataframe\">\n",
       "  <thead>\n",
       "    <tr style=\"text-align: right;\">\n",
       "      <th></th>\n",
       "      <th>end</th>\n",
       "      <th>start</th>\n",
       "    </tr>\n",
       "  </thead>\n",
       "  <tbody>\n",
       "    <tr>\n",
       "      <th>0</th>\n",
       "      <td>272969114</td>\n",
       "      <td>1126900601</td>\n",
       "    </tr>\n",
       "    <tr>\n",
       "      <th>1</th>\n",
       "      <td>741356524</td>\n",
       "      <td>440245546</td>\n",
       "    </tr>\n",
       "    <tr>\n",
       "      <th>2</th>\n",
       "      <td>1449626873</td>\n",
       "      <td>1370118169</td>\n",
       "    </tr>\n",
       "    <tr>\n",
       "      <th>3</th>\n",
       "      <td>609918602</td>\n",
       "      <td>87770955</td>\n",
       "    </tr>\n",
       "    <tr>\n",
       "      <th>4</th>\n",
       "      <td>1449626873</td>\n",
       "      <td>1299099267</td>\n",
       "    </tr>\n",
       "  </tbody>\n",
       "</table>\n",
       "</div>"
      ],
      "text/plain": [
       "          end       start\n",
       "0   272969114  1126900601\n",
       "1   741356524   440245546\n",
       "2  1449626873  1370118169\n",
       "3   609918602    87770955\n",
       "4  1449626873  1299099267"
      ]
     },
     "execution_count": 4,
     "metadata": {},
     "output_type": "execute_result"
    }
   ],
   "source": [
    "edges_df.head()"
   ]
  },
  {
   "cell_type": "markdown",
   "metadata": {},
   "source": [
    "## Step 2: Create a target graph\n",
    "\n",
    "We create a target graph by creating a graph handle and loading the nodes and edges into the graph.\n",
    "\n",
    "We can attach metadata to the nodes using keyword arguments of `GraphHandle.add_nodes`.\n",
    "`id_src` is a special field which specifies a unique id for each node. By default `id_src` is a continuous range of integers starting at zero."
   ]
  },
  {
   "cell_type": "code",
   "execution_count": 5,
   "metadata": {},
   "outputs": [],
   "source": [
    "target_graph = fornax.GraphHandle.create()\n",
    "target_graph.add_nodes(id_src=nodes_df['uid'], label=nodes_df['label'], type_=nodes_df['type'])\n",
    "target_graph.add_edges(edges_df['start'], edges_df['end'])"
   ]
  },
  {
   "cell_type": "markdown",
   "metadata": {},
   "source": [
    "## Step 3: Create a query graph\n",
    "\n",
    "Creating a query graph is exactly the same as creating a target graph. Because this query graph is small we don't load any values from file."
   ]
  },
  {
   "cell_type": "code",
   "execution_count": 6,
   "metadata": {},
   "outputs": [],
   "source": [
    "query_graph = fornax.GraphHandle.create()\n",
    "query_graph.add_nodes(id_src=[0, 1, 2], label=['hulk', 'lady', 'storm'])\n",
    "query_graph.add_edges([0, 1], [1, 2])"
   ]
  },
  {
   "cell_type": "markdown",
   "metadata": {},
   "source": [
    "## Step 4: Create a query\n",
    "\n",
    "A query needs a set of correspondances between the query and target graph.\n",
    "They can be anything provided that they are scored between 0 and 1.\n",
    "Below we create a correspondance between a query node and a target node. If the query node label is a substring of a target node label the correspondance scores 1, otherwise it is zero we don't specify it explicitly.\n",
    "\n",
    "Just like graph edges, matches are specified using the `src_id` of source and target nodes respectivly."
   ]
  },
  {
   "cell_type": "code",
   "execution_count": 7,
   "metadata": {},
   "outputs": [],
   "source": [
    "matches = []\n",
    "for i in nodes_df[nodes_df['label'].str.contains(\"(?i)hulk\")]['uid']:\n",
    "    matches.append((0, i, 1))\n",
    "for i in nodes_df[nodes_df['label'].str.contains('(?i)lady')]['uid']:\n",
    "    matches.append((1, i, 1))\n",
    "for i in nodes_df[nodes_df['label'].str.contains('(?i)storm')]['uid']:\n",
    "    matches.append((2, i, 1))\n",
    "sources, targets, weights = zip(*matches)"
   ]
  },
  {
   "cell_type": "code",
   "execution_count": 8,
   "metadata": {},
   "outputs": [
    {
     "data": {
      "text/plain": [
       "[(0, 2020667501, 1),\n",
       " (0, 2087196931, 1),\n",
       " (0, 2142361735, 1),\n",
       " (0, 1056123890, 1),\n",
       " (0, 970313367, 1),\n",
       " (0, 329519748, 1),\n",
       " (0, 959673558, 1),\n",
       " (0, 560425637, 1),\n",
       " (1, 1639515098, 1),\n",
       " (1, 995920086, 1)]"
      ]
     },
     "execution_count": 8,
     "metadata": {},
     "output_type": "execute_result"
    }
   ],
   "source": [
    "matches[:10]"
   ]
  },
  {
   "cell_type": "markdown",
   "metadata": {},
   "source": [
    "A query needs a two graph handles.\n",
    "Once created we can insert the matches."
   ]
  },
  {
   "cell_type": "code",
   "execution_count": 9,
   "metadata": {},
   "outputs": [],
   "source": [
    "query = fornax.QueryHandle.create(query_graph, target_graph)\n",
    "query.add_matches(sources, targets, weights)"
   ]
  },
  {
   "cell_type": "markdown",
   "metadata": {},
   "source": [
    "## Exacute the query\n",
    "\n",
    "The query produces a python dictionary that can be serialised to json.\n",
    "Each `graph` in the result uses the [node link fromat](https://networkx.github.io/documentation/stable/reference/readwrite/generated/networkx.readwrite.json_graph.node_link_data.html#networkx.readwrite.json_graph.node_link_data) for graphs.\n",
    "\n",
    "The resulting graphs contain\n",
    "* The query nodes\n",
    "* The optimal target nodes matching the query nodes\n",
    "* Edges between the query nodes\n",
    "* Edges between the relavent target nodes\n",
    "* The matches between the query graph and optimum target nodes"
   ]
  },
  {
   "cell_type": "code",
   "execution_count": 10,
   "metadata": {},
   "outputs": [
    {
     "name": "stderr",
     "output_type": "stream",
     "text": [
      "/Users/dstaff/anaconda3/envs/fornax/lib/python3.6/site-packages/numpy/core/records.py:513: FutureWarning: Numpy has detected that you may be viewing or writing to an array returned by selecting multiple fields in a structured array. \n",
      "\n",
      "This code may break in numpy 1.15 because this will return a view instead of a copy -- see release notes for details.\n",
      "  return obj.view(dtype=(self.dtype.type, obj.dtype))\n"
     ]
    }
   ],
   "source": [
    "# get the n best subgraph matches\n",
    "results = query.execute(n=1)"
   ]
  },
  {
   "cell_type": "code",
   "execution_count": 11,
   "metadata": {},
   "outputs": [
    {
     "name": "stdout",
     "output_type": "stream",
     "text": [
      "{\n",
      "    \"graphs\": [\n",
      "        {\n",
      "            \"is_multigraph\": false,\n",
      "            \"cost\": 0.024416640711327393,\n",
      "            \"nodes\": [\n",
      "                {\n",
      "                    \"id\": 1934515491,\n",
      "                    \"type\": \"query\",\n",
      "                    \"id_src\": 0,\n",
      "                    \"label\": \"hulk\"\n",
      "                },\n",
      "                {\n",
      "                    \"id\": 1325512080,\n",
      "                    \"type\": \"query\",\n",
      "                    \"id_src\": 1,\n",
      "                    \"label\": \"lady\"\n",
      "                },\n",
      "                {\n",
      "                    \"id\": 1876249886,\n",
      "                    \"type\": \"query\",\n",
      "                    \"id_src\": 2,\n",
      "                    \"label\": \"storm\"\n",
      "                },\n",
      "                {\n",
      "                    \"id\": 715503065,\n",
      "                    \"type\": \"target\",\n",
      "                    \"id_src\": 37644418,\n",
      "                    \"label\": \" Susan Storm\",\n",
      "                    \"type_\": 2\n",
      "                },\n",
      "                {\n",
      "                    \"id\": 1936330398,\n",
      "                    \"type\": \"target\",\n",
      "                    \"id_src\": 995920086,\n",
      "                    \"label\": \"Lady Liberators\",\n",
      "                    \"type_\": 1\n",
      "                },\n",
      "                {\n",
      "                    \"id\": 168902329,\n",
      "                    \"type\": \"target\",\n",
      "                    \"id_src\": 2142361735,\n",
      "                    \"label\": \"She-Hulk\",\n",
      "                    \"type_\": 0\n",
      "                }\n",
      "            ],\n",
      "            \"links\": [\n",
      "                {\n",
      "                    \"source\": 1934515491,\n",
      "                    \"target\": 168902329,\n",
      "                    \"type\": \"match\",\n",
      "                    \"weight\": 0.9869624795392156\n",
      "                },\n",
      "                {\n",
      "                    \"source\": 1325512080,\n",
      "                    \"target\": 1936330398,\n",
      "                    \"type\": \"match\",\n",
      "                    \"weight\": 0.9746778514236212\n",
      "                },\n",
      "                {\n",
      "                    \"source\": 1876249886,\n",
      "                    \"target\": 715503065,\n",
      "                    \"type\": \"match\",\n",
      "                    \"weight\": 0.9651097469031811\n",
      "                },\n",
      "                {\n",
      "                    \"source\": 1934515491,\n",
      "                    \"target\": 1325512080,\n",
      "                    \"type\": \"query\",\n",
      "                    \"weight\": 1.0\n",
      "                },\n",
      "                {\n",
      "                    \"source\": 1325512080,\n",
      "                    \"target\": 1876249886,\n",
      "                    \"type\": \"query\",\n",
      "                    \"weight\": 1.0\n",
      "                },\n",
      "                {\n",
      "                    \"source\": 1936330398,\n",
      "                    \"target\": 168902329,\n",
      "                    \"type\": \"target\",\n",
      "                    \"weight\": 1.0\n",
      "                }\n",
      "            ]\n",
      "        }\n",
      "    ],\n",
      "    \"iters\": 2,\n",
      "    \"hopping_distance\": 2,\n",
      "    \"max_iters\": 10\n",
      "}\n"
     ]
    }
   ],
   "source": [
    "print(json.dumps(results, indent=4))"
   ]
  },
  {
   "cell_type": "markdown",
   "metadata": {},
   "source": [
    "# Draw the result using networkx"
   ]
  },
  {
   "cell_type": "code",
   "execution_count": 12,
   "metadata": {},
   "outputs": [
    {
     "name": "stderr",
     "output_type": "stream",
     "text": [
      "/Users/dstaff/anaconda3/envs/fornax/lib/python3.6/site-packages/networkx/drawing/nx_pylab.py:611: MatplotlibDeprecationWarning: isinstance(..., numbers.Number)\n",
      "  if cb.is_numlike(alpha):\n"
     ]
    },
    {
     "data": {
      "image/png": "[encoded data removed]",
      "text/plain": [
       "<Figure size 432x288 with 1 Axes>"
      ]
     },
     "metadata": {},
     "output_type": "display_data"
    }
   ],
   "source": [
    "graph = results['graphs'][0]\n",
    "G = nx.json_graph.node_link_graph(graph)\n",
    "nx.draw(G, with_labels=True, labels={n['id']:n['label'] for n in graph['nodes']})"
   ]
  },
  {
   "cell_type": "markdown",
   "metadata": {},
   "source": [
    "## Write the resulting supgraph match using another graph format "
   ]
  },
  {
   "cell_type": "code",
   "execution_count": 15,
   "metadata": {},
   "outputs": [],
   "source": [
    "nx.write_gexf(G, 'my_graph.gexf')"
   ]
  }
 ],
 "metadata": {
  "kernelspec": {
   "display_name": "Python 3",
   "language": "python",
   "name": "python3"
  },
  "language_info": {
   "codemirror_mode": {
    "name": "ipython",
    "version": 3
   },
   "file_extension": ".py",
   "mimetype": "text/x-python",
   "name": "python",
   "nbconvert_exporter": "python",
   "pygments_lexer": "ipython3",
   "version": "3.6.5"
  }
 },
 "nbformat": 4,
 "nbformat_minor": 2
}
