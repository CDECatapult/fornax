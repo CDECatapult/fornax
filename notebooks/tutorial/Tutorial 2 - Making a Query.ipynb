{
 "cells": [
  {
   "cell_type": "code",
   "execution_count": 1,
   "metadata": {},
   "outputs": [],
   "source": [
    "import pandas as pd\n",
    "import fornax\n",
    "from sqlalchemy import create_engine\n",
    "from sqlalchemy.orm.session import Session"
   ]
  },
  {
   "cell_type": "markdown",
   "metadata": {},
   "source": [
    "# Tutorial 2 - Executing a Query\n",
    "\n",
    "## Introduction\n",
    "\n",
    "In this tutorial we will\n",
    "* query the graph for:\n",
    "    - a node label containing hulk \n",
    "    - joining to a node label containing Lady \n",
    "    - joining to a node label containing storm \n",
    "    \n",
    "Critically there is no such subgraph in the dataset.\n",
    "However, fornax will correctly deduce that She-Hulk and the Invisible Woman are both members of the Lady Liberators and this is the best match because The Invisible Woman is also known as Sue Storm.\n",
    "\n",
    "## Database Initialisation"
   ]
  },
  {
   "cell_type": "code",
   "execution_count": 2,
   "metadata": {},
   "outputs": [],
   "source": [
    "#populate the database as in tutorial 2\n",
    "nodes_df = pd.read_csv('./nodes.csv')\n",
    "edges_df = pd.read_csv('./edges.csv')\n",
    "target_graph = fornax.Graph.create(nodes_df['uid'], zip(edges_df['start'], edges_df['end']))"
   ]
  },
  {
   "cell_type": "markdown",
   "metadata": {},
   "source": [
    "## Preliminaries\n",
    "\n",
    "Since the database only contains ids of nodes, lets build a look up table to convert node ids into labels."
   ]
  },
  {
   "cell_type": "code",
   "execution_count": 3,
   "metadata": {},
   "outputs": [
    {
     "data": {
      "text/html": [
       "<div>\n",
       "<style scoped>\n",
       "    .dataframe tbody tr th:only-of-type {\n",
       "        vertical-align: middle;\n",
       "    }\n",
       "\n",
       "    .dataframe tbody tr th {\n",
       "        vertical-align: top;\n",
       "    }\n",
       "\n",
       "    .dataframe thead th {\n",
       "        text-align: right;\n",
       "    }\n",
       "</style>\n",
       "<table border=\"1\" class=\"dataframe\">\n",
       "  <thead>\n",
       "    <tr style=\"text-align: right;\">\n",
       "      <th></th>\n",
       "      <th>label</th>\n",
       "      <th>type</th>\n",
       "      <th>uid</th>\n",
       "    </tr>\n",
       "  </thead>\n",
       "  <tbody>\n",
       "    <tr>\n",
       "      <th>0</th>\n",
       "      <td>Selene</td>\n",
       "      <td>0</td>\n",
       "      <td>3467757555</td>\n",
       "    </tr>\n",
       "    <tr>\n",
       "      <th>1</th>\n",
       "      <td>Doctor Doom</td>\n",
       "      <td>0</td>\n",
       "      <td>3667190797</td>\n",
       "    </tr>\n",
       "    <tr>\n",
       "      <th>2</th>\n",
       "      <td>Viper</td>\n",
       "      <td>0</td>\n",
       "      <td>1383997739</td>\n",
       "    </tr>\n",
       "    <tr>\n",
       "      <th>3</th>\n",
       "      <td>Rhino</td>\n",
       "      <td>0</td>\n",
       "      <td>1455651050</td>\n",
       "    </tr>\n",
       "    <tr>\n",
       "      <th>4</th>\n",
       "      <td>Sin</td>\n",
       "      <td>0</td>\n",
       "      <td>1790395687</td>\n",
       "    </tr>\n",
       "  </tbody>\n",
       "</table>\n",
       "</div>"
      ],
      "text/plain": [
       "         label  type         uid\n",
       "0       Selene     0  3467757555\n",
       "1  Doctor Doom     0  3667190797\n",
       "2        Viper     0  1383997739\n",
       "3        Rhino     0  1455651050\n",
       "4          Sin     0  1790395687"
      ]
     },
     "execution_count": 3,
     "metadata": {},
     "output_type": "execute_result"
    }
   ],
   "source": [
    "nodes_df = pd.read_csv('./nodes.csv')\n",
    "nodes_df.head()"
   ]
  },
  {
   "cell_type": "code",
   "execution_count": 4,
   "metadata": {},
   "outputs": [
    {
     "data": {
      "text/plain": [
       "'Doctor Doom'"
      ]
     },
     "execution_count": 4,
     "metadata": {},
     "output_type": "execute_result"
    }
   ],
   "source": [
    "look_up = {uid: label for uid, label in zip(nodes_df['uid'], nodes_df['label'])}\n",
    "look_up[3667190797]"
   ]
  },
  {
   "cell_type": "markdown",
   "metadata": {},
   "source": [
    "## Building a Query\n",
    "\n",
    "The first step is to create a query graph.\n",
    "\n",
    "We need three nodes and two edges. \n",
    "Add them to the database just like target nodes."
   ]
  },
  {
   "cell_type": "code",
   "execution_count": 5,
   "metadata": {},
   "outputs": [
    {
     "data": {
      "text/plain": [
       "[0, 1, 2]"
      ]
     },
     "execution_count": 5,
     "metadata": {},
     "output_type": "execute_result"
    }
   ],
   "source": [
    "nodes = list(range(3))\n",
    "nodes"
   ]
  },
  {
   "cell_type": "code",
   "execution_count": 6,
   "metadata": {},
   "outputs": [
    {
     "data": {
      "text/plain": [
       "[(0, 1), (1, 2)]"
      ]
     },
     "execution_count": 6,
     "metadata": {},
     "output_type": "execute_result"
    }
   ],
   "source": [
    "edges = [(0, 1), (1, 2)]\n",
    "edges"
   ]
  },
  {
   "cell_type": "code",
   "execution_count": 7,
   "metadata": {},
   "outputs": [],
   "source": [
    "query_graph = fornax.Graph.create(nodes, edges)"
   ]
  },
  {
   "cell_type": "markdown",
   "metadata": {},
   "source": [
    "Now we add matching edgse between:\n",
    "* query node 0 and all target nodes containing the substring hulk\n",
    "* query node 1 and all target nodes containing the substring lady\n",
    "* query node 2 and all target nodes containing the substring storm\n",
    "\n",
    "The weight of each match is 1. Had we used a non binary matching function the weight can be in the range $0 < weight <= 1$."
   ]
  },
  {
   "cell_type": "code",
   "execution_count": 8,
   "metadata": {},
   "outputs": [],
   "source": [
    "matches = []\n",
    "for uid in nodes_df[nodes_df['label'].str.contains(\"(?i)hulk\")]['uid']:\n",
    "    matches.append((0, uid, 1))\n",
    "for uid in nodes_df[nodes_df['label'].str.contains('(?i)lady')]['uid']:\n",
    "    matches.append((1, uid, 1))\n",
    "for uid in nodes_df[nodes_df['label'].str.contains('(?i)storm')]['uid']:\n",
    "    matches.append((2, uid, 1))\n",
    "query = fornax.Query.create(query_graph, target_graph, matches)"
   ]
  },
  {
   "cell_type": "code",
   "execution_count": 9,
   "metadata": {},
   "outputs": [
    {
     "name": "stderr",
     "output_type": "stream",
     "text": [
      "/Users/dstaff/anaconda3/envs/fornax/lib/python3.6/site-packages/numpy/core/records.py:513: FutureWarning: Numpy has detected that you may be viewing or writing to an array returned by selecting multiple fields in a structured array. \n",
      "\n",
      "This code may break in numpy 1.15 because this will return a view instead of a copy -- see release notes for details.\n",
      "  return obj.view(dtype=(self.dtype.type, obj.dtype))\n"
     ]
    }
   ],
   "source": [
    "results = query.execute(n=3)"
   ]
  },
  {
   "cell_type": "code",
   "execution_count": 10,
   "metadata": {},
   "outputs": [
    {
     "data": {
      "text/plain": [
       "[{'graph': [(0, 72820223), (1, 37085608), (2, -2147483648)],\n",
       "  'score': 0.07324992213398218,\n",
       "  'matches': {(0, 72820223): 0.01303752,\n",
       "   (1, 37085608): 0.025322149,\n",
       "   (2, -2147483648): 0.034890253},\n",
       "  'query_nodes': [0, 1, 2],\n",
       "  'query_edges': [],\n",
       "  'target_nodes': [72820223, 37085608, -2147483648],\n",
       "  'target_edges': []},\n",
       " {'graph': [(0, 72820223), (1, 37085608), (2, 1799668242)],\n",
       "  'score': 0.07324992213398218,\n",
       "  'matches': {(0, 72820223): 0.01303752,\n",
       "   (1, 37085608): 0.025322149,\n",
       "   (2, 1799668242): 0.034890253},\n",
       "  'query_nodes': [0, 1, 2],\n",
       "  'query_edges': [],\n",
       "  'target_nodes': [72820223, 37085608, 1799668242],\n",
       "  'target_edges': []},\n",
       " {'graph': [(0, 72820223), (1, 37085608)],\n",
       "  'score': 1.0383596690371633,\n",
       "  'matches': {(0, 72820223): 0.01303752, (1, 37085608): 0.025322149},\n",
       "  'query_nodes': [0, 1],\n",
       "  'query_edges': [],\n",
       "  'target_nodes': [72820223, 37085608],\n",
       "  'target_edges': []}]"
      ]
     },
     "execution_count": 10,
     "metadata": {},
     "output_type": "execute_result"
    }
   ],
   "source": [
    "results"
   ]
  },
  {
   "cell_type": "code",
   "execution_count": 11,
   "metadata": {},
   "outputs": [
    {
     "data": {
      "text/plain": [
       "[[(0, 'She-Hulk'), (1, 'Lady Liberators'), (2, None)],\n",
       " [(0, 'She-Hulk'), (1, 'Lady Liberators'), (2, 'Susan Storm')],\n",
       " [(0, 'She-Hulk'), (1, 'Lady Liberators')]]"
      ]
     },
     "execution_count": 11,
     "metadata": {},
     "output_type": "execute_result"
    }
   ],
   "source": [
    "[[(query_id, look_up.get(target_id)) for (query_id, target_id) in solution['graph']] for solution in results]"
   ]
  },
  {
   "cell_type": "code",
   "execution_count": 12,
   "metadata": {},
   "outputs": [
    {
     "data": {
      "text/plain": [
       "[0.07324992213398218, 0.07324992213398218, 1.0383596690371633]"
      ]
     },
     "execution_count": 12,
     "metadata": {},
     "output_type": "execute_result"
    }
   ],
   "source": [
    "[result['score'] for result in results]"
   ]
  }
 ],
 "metadata": {
  "kernelspec": {
   "display_name": "Python 3",
   "language": "python",
   "name": "python3"
  },
  "language_info": {
   "codemirror_mode": {
    "name": "ipython",
    "version": 3
   },
   "file_extension": ".py",
   "mimetype": "text/x-python",
   "name": "python",
   "nbconvert_exporter": "python",
   "pygments_lexer": "ipython3",
   "version": "3.6.5"
  }
 },
 "nbformat": 4,
 "nbformat_minor": 2
}
